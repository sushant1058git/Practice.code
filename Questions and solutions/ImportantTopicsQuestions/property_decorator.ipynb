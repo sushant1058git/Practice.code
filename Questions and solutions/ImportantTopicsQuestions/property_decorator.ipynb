{
 "cells": [
  {
   "attachments": {},
   "cell_type": "markdown",
   "metadata": {},
   "source": [
    "Classes without getters and setters"
   ]
  },
  {
   "cell_type": "code",
   "execution_count": null,
   "metadata": {},
   "outputs": [],
   "source": [
    "\n",
    "\n",
    "class Celsius:\n",
    "    def __init__(self,temperature=0):\n",
    "        self.temperature=temperature\n",
    "        \n",
    "    def toFaranhiteConverter(self):\n",
    "        tempFaranhite=32+9/5*(self.temperature)\n",
    "        return tempFaranhite\n",
    "    \n",
    "    \n",
    "c=Celsius()\n",
    "c.temperature=30  #Setting temperature\n",
    "\n",
    "print(c.temperature)\n",
    "\n",
    "f=c.toFaranhiteConverter() #Getting temperature\n",
    "print(f)\n",
    "\n",
    "\n",
    "print(c.__dict__)  #So, whenever we assign or retrieve any object attribute like temperature as shown above, \n",
    "# Python searches it in the object's built-in __dict__ dictionary attribute as {'temperature': 30}\n",
    "\n",
    "# Therefore c.temperature internally becomes:-\n",
    "#   c.__dict__['temperature']\n",
    "\n",
    "  "
   ]
  },
  {
   "attachments": {},
   "cell_type": "markdown",
   "metadata": {},
   "source": [
    "Using Getters and Setters"
   ]
  },
  {
   "cell_type": "code",
   "execution_count": null,
   "metadata": {},
   "outputs": [],
   "source": [
    "class Celsius:\n",
    "    def __init__(self,temperature):\n",
    "        self.temperature=temperature\n",
    "        \n",
    "    def toFaranhite(self):\n",
    "        tempFaranhite=32+9/5*(self.getTemperature())\n",
    "        return tempFaranhite\n",
    "    \n",
    "    def setTemperature(self,newTemp):\n",
    "        if newTemp<-273.15:\n",
    "            raise ValueError(\"Temperature below -273.15 is not possible\")\n",
    "        self.temperature=newTemp\n",
    "        \n",
    "    def getTemperature(self):\n",
    "        return self.temperature\n",
    "    \n",
    "    \n",
    "human=Celsius(37)\n",
    "\n",
    "print(human.getTemperature())  #Getting temp value using getter method\n",
    "\n",
    "human.setTemperature(-300) #Setting temp value using setter method\n",
    "print(human.getTemperature())\n",
    "\n",
    "print(human.toFaranhite())\n",
    "        "
   ]
  },
  {
   "attachments": {},
   "cell_type": "markdown",
   "metadata": {},
   "source": [
    "Using Property Class"
   ]
  },
  {
   "cell_type": "code",
   "execution_count": null,
   "metadata": {},
   "outputs": [],
   "source": [
    "# Using property class\n",
    "\n",
    "class Celsius:\n",
    "    def __init__(self,temperature=0):\n",
    "        self.temperature=temperature\n",
    "        \n",
    "    def toFaranhite(self):\n",
    "        tempFaranhite=32+9/5*(self.temperature)\n",
    "        return tempFaranhite\n",
    "    \n",
    "    def getTemperature(self):\n",
    "        print(\"Getting temperature...\")\n",
    "        return self._temperature\n",
    "    \n",
    "    def setTemperature(self,newTemp):\n",
    "        print(\"setting temperature...\")\n",
    "        if newTemp < -273.15:\n",
    "            raise ValueError(\"Temperature can not be less than -273.15\")\n",
    "        self._temperature=newTemp\n",
    "    # So only added setter and getter in order to restrucutre old code base (class without setter and getter)\n",
    "\n",
    "    # Creating Property Object\n",
    "\n",
    "    temperature=property(getTemperature, setTemperature)\n",
    "    \n",
    "    \n",
    "human = Celsius(37)\n",
    "\n",
    "print(human.temperature)\n",
    "\n",
    "print(human.toFaranhite())\n",
    "\n",
    "human.temperature = -300\n",
    "\n",
    "\n",
    "\n"
   ]
  },
  {
   "cell_type": "code",
   "execution_count": null,
   "metadata": {},
   "outputs": [],
   "source": [
    "# Using @property decorator\n",
    "class Celsius:\n",
    "    def __init__(self, temperature=0):\n",
    "        self.temperature = temperature\n",
    "\n",
    "    def to_fahrenheit(self):\n",
    "        return (self.temperature * 1.8) + 32\n",
    "\n",
    "    @property\n",
    "    def temperature(self):\n",
    "        print(\"Getting value...\")\n",
    "        return self._temperature\n",
    "\n",
    "    @temperature.setter\n",
    "    def temperature(self, value):\n",
    "        print(\"Setting value...\")\n",
    "        if value < -273.15:\n",
    "            raise ValueError(\"Temperature below -273 is not possible\")\n",
    "        self._temperature = value\n",
    "\n",
    "\n",
    "# create an object\n",
    "human = Celsius(37)\n",
    "\n",
    "print(human.temperature)\n",
    "\n",
    "print(human.to_fahrenheit())\n",
    "\n",
    "coldest_thing = Celsius(-300)"
   ]
  }
 ],
 "metadata": {
  "kernelspec": {
   "display_name": "Python 3",
   "language": "python",
   "name": "python3"
  },
  "language_info": {
   "codemirror_mode": {
    "name": "ipython",
    "version": 3
   },
   "file_extension": ".py",
   "mimetype": "text/x-python",
   "name": "python",
   "nbconvert_exporter": "python",
   "pygments_lexer": "ipython3",
   "version": "3.10.1"
  },
  "orig_nbformat": 4
 },
 "nbformat": 4,
 "nbformat_minor": 2
}
