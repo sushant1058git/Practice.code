{
 "cells": [
  {
   "cell_type": "code",
   "execution_count": 9,
   "metadata": {},
   "outputs": [
    {
     "name": "stdout",
     "output_type": "stream",
     "text": [
      "2\n",
      "1\n",
      "0\n"
     ]
    },
    {
     "ename": "NameError",
     "evalue": "name 'foo2' is not defined",
     "output_type": "error",
     "traceback": [
      "\u001b[0;31m---------------------------------------------------------------------------\u001b[0m",
      "\u001b[0;31mNameError\u001b[0m                                 Traceback (most recent call last)",
      "\u001b[1;32m/Users/sushantsinha/Practice Code/Questions and solutions/ImportantTopicsQuestions/namespace&scope.ipynb Cell 1\u001b[0m in \u001b[0;36m<cell line: 13>\u001b[0;34m()\u001b[0m\n\u001b[1;32m     <a href='vscode-notebook-cell:/Users/sushantsinha/Practice%20Code/Questions%20and%20solutions/ImportantTopicsQuestions/namespace%26scope.ipynb#W0sZmlsZQ%3D%3D?line=10'>11</a>\u001b[0m foo1()\n\u001b[1;32m     <a href='vscode-notebook-cell:/Users/sushantsinha/Practice%20Code/Questions%20and%20solutions/ImportantTopicsQuestions/namespace%26scope.ipynb#W0sZmlsZQ%3D%3D?line=11'>12</a>\u001b[0m \u001b[39mprint\u001b[39m(a)\n\u001b[0;32m---> <a href='vscode-notebook-cell:/Users/sushantsinha/Practice%20Code/Questions%20and%20solutions/ImportantTopicsQuestions/namespace%26scope.ipynb#W0sZmlsZQ%3D%3D?line=12'>13</a>\u001b[0m foo2()\n",
      "\u001b[0;31mNameError\u001b[0m: name 'foo2' is not defined"
     ]
    }
   ],
   "source": [
    "a = 0\n",
    "def foo1():\n",
    "    a = 1 # local function, defined under foo1. But it is nonlocal of foo2\n",
    "    def foo2():\n",
    "        a = 2\n",
    "        print(a)\n",
    "        a += 1\n",
    "    \n",
    "    foo2()\n",
    "    print(a)\n",
    "foo1()\n",
    "print(a)\n",
    "foo2()\n"
   ]
  },
  {
   "cell_type": "code",
   "execution_count": 10,
   "metadata": {},
   "outputs": [
    {
     "name": "stdout",
     "output_type": "stream",
     "text": [
      "2\n",
      "1\n",
      "3\n"
     ]
    },
    {
     "ename": "NameError",
     "evalue": "name 'foo2' is not defined",
     "output_type": "error",
     "traceback": [
      "\u001b[0;31m---------------------------------------------------------------------------\u001b[0m",
      "\u001b[0;31mNameError\u001b[0m                                 Traceback (most recent call last)",
      "\u001b[1;32m/Users/sushantsinha/Practice Code/Questions and solutions/ImportantTopicsQuestions/namespace&scope.ipynb Cell 2\u001b[0m in \u001b[0;36m<cell line: 14>\u001b[0;34m()\u001b[0m\n\u001b[1;32m     <a href='vscode-notebook-cell:/Users/sushantsinha/Practice%20Code/Questions%20and%20solutions/ImportantTopicsQuestions/namespace%26scope.ipynb#W1sZmlsZQ%3D%3D?line=11'>12</a>\u001b[0m foo1()\n\u001b[1;32m     <a href='vscode-notebook-cell:/Users/sushantsinha/Practice%20Code/Questions%20and%20solutions/ImportantTopicsQuestions/namespace%26scope.ipynb#W1sZmlsZQ%3D%3D?line=12'>13</a>\u001b[0m \u001b[39mprint\u001b[39m(a)\n\u001b[0;32m---> <a href='vscode-notebook-cell:/Users/sushantsinha/Practice%20Code/Questions%20and%20solutions/ImportantTopicsQuestions/namespace%26scope.ipynb#W1sZmlsZQ%3D%3D?line=13'>14</a>\u001b[0m foo2()\n",
      "\u001b[0;31mNameError\u001b[0m: name 'foo2' is not defined"
     ]
    }
   ],
   "source": [
    "a = 0\n",
    "def foo1():\n",
    "    a = 1 # local function, defined under foo1. But it is nonlocal of foo2\n",
    "    def foo2():\n",
    "        global a \n",
    "        a=2\n",
    "        print(a) \n",
    "        a += 1\n",
    "    \n",
    "    foo2()\n",
    "    print(a)\n",
    "foo1()\n",
    "print(a)\n",
    "foo2()    #foo2() is not in scope. So it throws error ==> NameError: name 'foo2' is not defined"
   ]
  },
  {
   "cell_type": "code",
   "execution_count": 11,
   "metadata": {},
   "outputs": [
    {
     "name": "stdout",
     "output_type": "stream",
     "text": [
      "2\n",
      "3\n",
      "0\n"
     ]
    }
   ],
   "source": [
    "# Manipulating Nonlocal Variables\n",
    "\n",
    "a = 0\n",
    "def foo1():\n",
    "    a = 1\n",
    "    def foo2():\n",
    "        nonlocal a\n",
    "        a = 2\n",
    "        print(a)\n",
    "        a += 1\n",
    "    \n",
    "    foo2()\n",
    "    print(a)\n",
    "foo1()\n",
    "print(a)\n"
   ]
  },
  {
   "cell_type": "code",
   "execution_count": 12,
   "metadata": {},
   "outputs": [
    {
     "name": "stdout",
     "output_type": "stream",
     "text": [
      "globalscdsdsass x\n"
     ]
    }
   ],
   "source": [
    "x='globalscdsdsass x'\n",
    "\n",
    "def test():\n",
    "    \n",
    "    # y='local y'\n",
    "    print(x)\n",
    "    \n",
    "test()"
   ]
  },
  {
   "cell_type": "code",
   "execution_count": 13,
   "metadata": {},
   "outputs": [
    {
     "name": "stdout",
     "output_type": "stream",
     "text": [
      "GeeksForGeeks\n",
      "GeeksForGeeks\n"
     ]
    }
   ],
   "source": [
    "def foo():\n",
    "\tname = \"geek\" # Our local variable\n",
    "\n",
    "\tdef bar():\n",
    "\t\tnonlocal name\t\t # Reference name in the upper scope\n",
    "\t\tname = 'GeeksForGeeks' # Overwrite this variable\n",
    "\t\tprint(name)\n",
    "\t\t\n",
    "\t# Calling inner function\n",
    "\tbar()\n",
    "\t\n",
    "\t# Printing local variable\n",
    "\tprint(name)\n",
    "\n",
    "foo()\n"
   ]
  },
  {
   "cell_type": "code",
   "execution_count": 14,
   "metadata": {},
   "outputs": [
    {
     "ename": "SyntaxError",
     "evalue": "no binding for nonlocal 'global_name' found (657407525.py, line 11)",
     "output_type": "error",
     "traceback": [
      "\u001b[0;36m  Input \u001b[0;32mIn [14]\u001b[0;36m\u001b[0m\n\u001b[0;31m    nonlocal global_name\t # Try to reference global variable\u001b[0m\n\u001b[0m    ^\u001b[0m\n\u001b[0;31mSyntaxError\u001b[0m\u001b[0;31m:\u001b[0m no binding for nonlocal 'global_name' found\n"
     ]
    }
   ],
   "source": [
    "# Declaring a global variable\n",
    "global_name = 'geeksforgeeks'\n",
    "\n",
    "\n",
    "def foo():\n",
    "\n",
    "\t# Defining inner function\n",
    "\tdef bar():\n",
    "\t\n",
    "\t\t# Declaring nonlocal variable\n",
    "\t\tnonlocal global_name\t # Try to reference global variable\n",
    "\t\tglobal_name = 'GeeksForGeeks'# Try to overwrite it\n",
    "\t\tprint(global_name)\n",
    "\t\t\n",
    "\t# Calling inner function\n",
    "\tbar()\n",
    "\t\n",
    "foo()\n"
   ]
  },
  {
   "attachments": {},
   "cell_type": "markdown",
   "metadata": {},
   "source": [
    "Understanding global in Python\n"
   ]
  },
  {
   "cell_type": "code",
   "execution_count": 16,
   "metadata": {},
   "outputs": [
    {
     "name": "stdout",
     "output_type": "stream",
     "text": [
      "1\n"
     ]
    }
   ],
   "source": [
    "c = 1 # global variable\n",
    "\n",
    "def add():\n",
    "    print(c)\n",
    "\n",
    "add()\n",
    "\n",
    "# Output: 1"
   ]
  },
  {
   "cell_type": "code",
   "execution_count": 15,
   "metadata": {},
   "outputs": [
    {
     "ename": "UnboundLocalError",
     "evalue": "local variable 'c' referenced before assignment",
     "output_type": "error",
     "traceback": [
      "\u001b[0;31m---------------------------------------------------------------------------\u001b[0m",
      "\u001b[0;31mUnboundLocalError\u001b[0m                         Traceback (most recent call last)",
      "\u001b[1;32m/Users/sushantsinha/Practice Code/Questions and solutions/ImportantTopicsQuestions/namespace&scope.ipynb Cell 9\u001b[0m in \u001b[0;36m<cell line: 12>\u001b[0;34m()\u001b[0m\n\u001b[1;32m      <a href='vscode-notebook-cell:/Users/sushantsinha/Practice%20Code/Questions%20and%20solutions/ImportantTopicsQuestions/namespace%26scope.ipynb#X12sZmlsZQ%3D%3D?line=7'>8</a>\u001b[0m     c \u001b[39m=\u001b[39m c \u001b[39m+\u001b[39m \u001b[39m2\u001b[39m\n\u001b[1;32m     <a href='vscode-notebook-cell:/Users/sushantsinha/Practice%20Code/Questions%20and%20solutions/ImportantTopicsQuestions/namespace%26scope.ipynb#X12sZmlsZQ%3D%3D?line=9'>10</a>\u001b[0m     \u001b[39mprint\u001b[39m(c)\n\u001b[0;32m---> <a href='vscode-notebook-cell:/Users/sushantsinha/Practice%20Code/Questions%20and%20solutions/ImportantTopicsQuestions/namespace%26scope.ipynb#X12sZmlsZQ%3D%3D?line=11'>12</a>\u001b[0m add()\n",
      "\u001b[1;32m/Users/sushantsinha/Practice Code/Questions and solutions/ImportantTopicsQuestions/namespace&scope.ipynb Cell 9\u001b[0m in \u001b[0;36madd\u001b[0;34m()\u001b[0m\n\u001b[1;32m      <a href='vscode-notebook-cell:/Users/sushantsinha/Practice%20Code/Questions%20and%20solutions/ImportantTopicsQuestions/namespace%26scope.ipynb#X12sZmlsZQ%3D%3D?line=4'>5</a>\u001b[0m \u001b[39mdef\u001b[39;00m \u001b[39madd\u001b[39m():\n\u001b[1;32m      <a href='vscode-notebook-cell:/Users/sushantsinha/Practice%20Code/Questions%20and%20solutions/ImportantTopicsQuestions/namespace%26scope.ipynb#X12sZmlsZQ%3D%3D?line=5'>6</a>\u001b[0m \n\u001b[1;32m      <a href='vscode-notebook-cell:/Users/sushantsinha/Practice%20Code/Questions%20and%20solutions/ImportantTopicsQuestions/namespace%26scope.ipynb#X12sZmlsZQ%3D%3D?line=6'>7</a>\u001b[0m      \u001b[39m# increment c by 2\u001b[39;00m\n\u001b[0;32m----> <a href='vscode-notebook-cell:/Users/sushantsinha/Practice%20Code/Questions%20and%20solutions/ImportantTopicsQuestions/namespace%26scope.ipynb#X12sZmlsZQ%3D%3D?line=7'>8</a>\u001b[0m     c \u001b[39m=\u001b[39m c \u001b[39m+\u001b[39m \u001b[39m2\u001b[39m\n\u001b[1;32m     <a href='vscode-notebook-cell:/Users/sushantsinha/Practice%20Code/Questions%20and%20solutions/ImportantTopicsQuestions/namespace%26scope.ipynb#X12sZmlsZQ%3D%3D?line=9'>10</a>\u001b[0m     \u001b[39mprint\u001b[39m(c)\n",
      "\u001b[0;31mUnboundLocalError\u001b[0m: local variable 'c' referenced before assignment"
     ]
    }
   ],
   "source": [
    "# Trying to modify global variable inside a function\n",
    "# global variable\n",
    "c = 1 \n",
    "\n",
    "def add():\n",
    "\n",
    "     # increment c by 2\n",
    "    c = c + 2\n",
    "\n",
    "    print(c)\n",
    "\n",
    "add()"
   ]
  },
  {
   "cell_type": "code",
   "execution_count": 17,
   "metadata": {},
   "outputs": [
    {
     "name": "stdout",
     "output_type": "stream",
     "text": [
      "3\n"
     ]
    }
   ],
   "source": [
    "# global variable\n",
    "c = 1 \n",
    "\n",
    "def add():\n",
    "\n",
    "    # use of global keyword\n",
    "    global c\n",
    "\n",
    "    # increment c by 2\n",
    "    c = c + 2 \n",
    "\n",
    "    print(c)\n",
    "\n",
    "add()\n",
    "\n",
    "# Output: 3 "
   ]
  },
  {
   "cell_type": "code",
   "execution_count": 18,
   "metadata": {},
   "outputs": [
    {
     "name": "stdout",
     "output_type": "stream",
     "text": [
      "Before calling inner_function():  20\n",
      "After calling inner_function():  20\n",
      "Outside both function:  25\n"
     ]
    }
   ],
   "source": [
    "def outer_function():\n",
    "    num = 20\n",
    "\n",
    "    def inner_function():\n",
    "        global num\n",
    "        num = 25\n",
    "    \n",
    "    print(\"Before calling inner_function(): \", num)\n",
    "    inner_function()\n",
    "    print(\"After calling inner_function(): \", num)\n",
    "\n",
    "outer_function()\n",
    "print(\"Outside both function: \", num)"
   ]
  }
 ],
 "metadata": {
  "kernelspec": {
   "display_name": "Python 3",
   "language": "python",
   "name": "python3"
  },
  "language_info": {
   "codemirror_mode": {
    "name": "ipython",
    "version": 3
   },
   "file_extension": ".py",
   "mimetype": "text/x-python",
   "name": "python",
   "nbconvert_exporter": "python",
   "pygments_lexer": "ipython3",
   "version": "3.10.1"
  },
  "orig_nbformat": 4
 },
 "nbformat": 4,
 "nbformat_minor": 2
}
