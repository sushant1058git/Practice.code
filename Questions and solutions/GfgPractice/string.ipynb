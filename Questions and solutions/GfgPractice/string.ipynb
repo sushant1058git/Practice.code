{
 "cells": [
  {
   "cell_type": "code",
   "execution_count": 74,
   "metadata": {},
   "outputs": [
    {
     "name": "stdout",
     "output_type": "stream",
     "text": [
      "0 4 0 1 "
     ]
    }
   ],
   "source": [
    "# Given a string S, containing numeric words, the task is to convert the given string to the actual number.\n",
    "\n",
    "# Example: \n",
    "# Input: S = “zero four zero one”\n",
    "# Output: 0401\n",
    "\n",
    "# Input: S = “four zero one four”\n",
    "# Output: 4014\n",
    "\n",
    "S = 'zero four zero one'\n",
    "\n",
    "# defining dictionary\n",
    "\n",
    "dict={\n",
    "    'zero':0,\n",
    "    'one':1,\n",
    "    'two':2,\n",
    "    'three':3,\n",
    "    'four':4,\n",
    "    'five':5,\n",
    "    'six':6,\n",
    "    'seven':7,\n",
    "    'eight':8,\n",
    "    'nine':9\n",
    "    \n",
    "}\n",
    "\n",
    "new=S.split(\" \")\n",
    "new\n",
    "res=[]\n",
    "for item in new:\n",
    "    res.append(dict[item])\n",
    "    \n",
    "res\n",
    "\n",
    "for digit in res:\n",
    "    print(digit,end=\" \")"
   ]
  },
  {
   "cell_type": "code",
   "execution_count": 16,
   "metadata": {},
   "outputs": [
    {
     "data": {
      "text/plain": [
       "3"
      ]
     },
     "execution_count": 16,
     "metadata": {},
     "output_type": "execute_result"
    }
   ],
   "source": [
    "# find the location where word exists\n",
    "test_str = 'geeksforgeeks is bestß for geeks'\n",
    "\n",
    "test_word='best'\n",
    "\n",
    "test_list=test_str.split(\" \")\n",
    "\n",
    "loc=test_list.index(test_word)+1\n",
    "loc"
   ]
  },
  {
   "attachments": {},
   "cell_type": "markdown",
   "metadata": {},
   "source": [
    "Groupby() function from itertools of python"
   ]
  },
  {
   "cell_type": "code",
   "execution_count": 40,
   "metadata": {},
   "outputs": [
    {
     "data": {
      "text/plain": [
       "[1, 2, 2, 1, 1, 1, 1, 3, 2, 1, 1]"
      ]
     },
     "execution_count": 40,
     "metadata": {},
     "output_type": "execute_result"
    }
   ],
   "source": [
    "# compute the frequency of consecutive characters till the character changes\n",
    "\n",
    "from itertools import groupby\n",
    "test_str = \"geekksforgggeeks\"\n",
    "keys=[]\n",
    "groups=[]\n",
    "result=[]\n",
    "\n",
    "res=groupby(test_str)\n",
    "for key,group in res:\n",
    "    keys.append(key)\n",
    "    groups.append(list(group))\n",
    "    \n",
    "for item in list(groups):\n",
    "    result.append(len(item))\n",
    "    \n",
    "result"
   ]
  },
  {
   "cell_type": "code",
   "execution_count": 72,
   "metadata": {},
   "outputs": [
    {
     "data": {
      "text/plain": [
       "'tyuqwer'"
      ]
     },
     "execution_count": 72,
     "metadata": {},
     "output_type": "execute_result"
    }
   ],
   "source": [
    "# Given a string of size n, write functions to perform following operations on string.\n",
    "\n",
    "# Left (Or anticlockwise) rotate the given string by d elements (where d <= n).\n",
    "# Right (Or clockwise) rotate the given string by d elements (where d <= n).\n",
    "\n",
    "# Input : s = \"GeeksforGeeks\"\n",
    "#         d = 2\n",
    "# Output : Left Rotation  : \"eksforGeeksGe\" \n",
    "#          Right Rotation : \"ksGeeksforGee\"  \n",
    "\n",
    "\n",
    "# Input : s = \"qwertyu\" \n",
    "#         d = 2\n",
    "# Output : Left rotation : \"ertyuqw\"\n",
    "#          Right rotation : \"yuqwert\"\n",
    "\n",
    "\n",
    "def wordRotation(s,d,rotation):\n",
    "    if rotation=='left':\n",
    "        first_part=s[0:d:]\n",
    "        second_part=s[d::]\n",
    "        rotated_str=second_part+first_part\n",
    "    elif rotation == 'right':\n",
    "        first_part=s[len(s)-d::]\n",
    "        second_part=s[:len(s)-d:]\n",
    "        rotated_str=first_part+second_part\n",
    "\n",
    "    return rotated_str\n",
    "\n",
    "wordRotation('qwertyu',3,'right')\n"
   ]
  },
  {
   "cell_type": "code",
   "execution_count": 83,
   "metadata": {},
   "outputs": [
    {
     "name": "stdout",
     "output_type": "stream",
     "text": [
      "{'Gfg': 1, 'is': 2, 'best': 1}\n"
     ]
    },
    {
     "data": {
      "text/plain": [
       "Counter({'Gfg': 1, 'is': 2, 'best': 1})"
      ]
     },
     "execution_count": 83,
     "metadata": {},
     "output_type": "execute_result"
    }
   ],
   "source": [
    "# Python – Words Frequency in String Shorthands\n",
    "# nput : test_str = ‘Gfg is best’ Output : {‘Gfg’: 1, ‘is’: 1, ‘best’: 1} \n",
    "# Input : test_str = ‘Gfg Gfg Gfg’ Output : {‘Gfg’: 3}\n",
    "\n",
    "test_str = 'Gfg is is best'\n",
    "\n",
    "res_str=test_str.split(\" \")\n",
    "dict={}\n",
    "\n",
    "for ele in res_str:\n",
    "    if ele in dict:\n",
    "        dict[ele] +=1\n",
    "    else:\n",
    "        dict[ele]=1\n",
    "        \n",
    "print(dict)\n",
    "        \n",
    "#Alternate Method\n",
    "from collections import Counter\n",
    "\n",
    "result=Counter(res_str)\n",
    "\n",
    "result"
   ]
  },
  {
   "cell_type": "code",
   "execution_count": 94,
   "metadata": {},
   "outputs": [
    {
     "name": "stdout",
     "output_type": "stream",
     "text": [
      "GeeksForGeeks\n"
     ]
    }
   ],
   "source": [
    "# Python – Convert Snake case to Pascal case\n",
    "# Input : geeks_for_geeks Output : GeeksforGeeks Input : left_index Output : leftIndex\n",
    "\n",
    "input_string='geeks_for_geeks'\n",
    "\n",
    "res=input_string.split('_')\n",
    "\n",
    "result=[]\n",
    "\n",
    "for item in res:\n",
    "    item=item.replace(item[0],item[0].upper())\n",
    "    result.append(item)\n",
    "    \n",
    "output=''.join(ele for ele in result)\n",
    "# output\n",
    "\n",
    "\n",
    "# Alternate Method\n",
    "\n",
    "output_str=(input_string.replace(\"_\",\" \")).title().replace(\" \",\"\")\n",
    "print(output_str)"
   ]
  },
  {
   "cell_type": "code",
   "execution_count": null,
   "metadata": {},
   "outputs": [],
   "source": [
    "# Python – Right and Left Shift characters in String\n",
    "# https://www.geeksforgeeks.org/python-right-and-left-shift-characters-in-string/?ref=leftbar-rightbar\n"
   ]
  },
  {
   "cell_type": "code",
   "execution_count": 3,
   "metadata": {},
   "outputs": [
    {
     "data": {
      "text/plain": [
       "['gfg', ' is', ' (best', ' for)', ' geeks']"
      ]
     },
     "execution_count": 3,
     "metadata": {},
     "output_type": "execute_result"
    }
   ],
   "source": [
    "# https://www.geeksforgeeks.org/python-exceptional-split-in-string/?ref=leftbar-rightbar\n",
    "# a problem in which we need to perform split on certain characters but have exceptions. \n",
    "# This discusses split on comma, with the exception that comma should not be enclosed by brackets\n",
    "\n",
    "\n",
    "# The original string is : gfg, is, (best, for), geeks\n",
    "# The string after exceptional split : ['gfg', ' is', ' (best, for)', ' geeks']\n",
    "\n",
    "input_str='gfg, is, (best, for), geeks'\n",
    "res=input_str.split(\",\")\n",
    "res\n",
    "        \n",
    "res"
   ]
  },
  {
   "cell_type": "code",
   "execution_count": null,
   "metadata": {},
   "outputs": [],
   "source": [
    "# Python – Split String on vowels\n",
    "# Input : test_str = ‘GFGaBst’ \n",
    "# Output : [‘GFG’, ‘Bst’] \n",
    "# Explanation : a is vowel and split happens on that.\n",
    "# Input : test_str = ‘GFGaBstuforigeeks’ \n",
    "# Output : [‘GFG’, ‘Bst’, ‘f’, ‘r’, ‘g’, ‘ks’]\n",
    "# Explanation : a, e, o, u, i are vowels and split happens on that.\n",
    "import re\n",
    "test_str = 'GFGaBstuforigeeks'\n",
    "\n",
    "res=re.split(r'[aeiou]+',test_str)\n",
    "res"
   ]
  },
  {
   "cell_type": "code",
   "execution_count": 4,
   "metadata": {},
   "outputs": [
    {
     "name": "stdout",
     "output_type": "stream",
     "text": [
      "The splitted string : ['GFG', 'Bst', '4', 'CS']\n"
     ]
    }
   ],
   "source": [
    "# Alternate method using tanslate() and maketrans()\n",
    "# initializing string\n",
    "test_str = 'GFGaBste4oCS'\n",
    " \n",
    "# create a translation table that replaces vowels with spaces\n",
    "trans_table = str.maketrans('aeiouAEIOU', ' '*10)\n",
    " \n",
    "# split the string on spaces\n",
    "res = test_str.translate(trans_table).split()\n",
    " \n",
    "# printing result\n",
    "print(\"The splitted string : \" + str(res))"
   ]
  },
  {
   "cell_type": "code",
   "execution_count": 6,
   "metadata": {},
   "outputs": [
    {
     "data": {
      "text/plain": [
       "'g11ksforg11ks is 61st'"
      ]
     },
     "execution_count": 6,
     "metadata": {},
     "output_type": "execute_result"
    }
   ],
   "source": [
    "# Input : test_str = 'geeksforgeeks is best', map_dict = {'e':'1', 'b':'6'} \n",
    "# Output : g11ksforg11ks is 61st \n",
    "# Explanation : All e are replaced by 1 and b by 6. \n",
    "\n",
    "test_str = 'geeksforgeeks is best'\n",
    "map_dict = {'e':'1', 'b':'6'}\n",
    "\n",
    "table=test_str.maketrans(map_dict)\n",
    "\n",
    "res=test_str.translate(table)\n",
    "res"
   ]
  },
  {
   "cell_type": "code",
   "execution_count": null,
   "metadata": {},
   "outputs": [],
   "source": [
    "# Python – Split String on vowels\n",
    "# Input : test_str = ‘GFGaBst’ \n",
    "# Output : [‘GFG’, ‘Bst’] \n",
    "# Explanation : a is vowel and split happens on that.\n",
    "# Input : test_str = ‘GFGaBstuforigeeks’ \n",
    "# Output : [‘GFG’, ‘Bst’, ‘f’, ‘r’, ‘g’, ‘ks’]\n",
    "# Explanation : a, e, o, u, i are vowels and split happens on that.\n",
    "test_str = 'GFGaBstuforigeeks'\n",
    "\n",
    "res=re.split(r'[aeiou]+',test_str)\n",
    "res\n",
    "\n",
    "\n",
    "# Alternate method using tanslate() and maketrans()\n",
    "# initializing string\n",
    "test_str = 'GFGaBste4oCS'\n",
    " \n",
    "# create a translation table that replaces vowels with spaces\n",
    "trans_table = str.maketrans('aeiouAEIOU', ' '*10)\n",
    " \n",
    "# split the string on spaces\n",
    "res = test_str.translate(trans_table).split()\n",
    " \n",
    "# printing result\n",
    "print(\"The splitted string : \" + str(res))"
   ]
  },
  {
   "cell_type": "code",
   "execution_count": 11,
   "metadata": {},
   "outputs": [
    {
     "data": {
      "text/plain": [
       "['GeeksforGeeks is ', ' for geeks']"
      ]
     },
     "execution_count": 11,
     "metadata": {},
     "output_type": "execute_result"
    }
   ],
   "source": [
    "# https://www.geeksforgeeks.org/python-string-till-substring/\n",
    "# Python3 code to demonstrate String till Substring\n",
    " \n",
    "# initializing string\n",
    "test_string = \"GeeksforGeeks is best for geeks\"\n",
    " \n",
    "# initializing split word\n",
    "spl_word = 'best'\n",
    "# String till Substring\n",
    "res = test_string.partition(spl_word)[0]\n",
    "res\n",
    "\n",
    "# Alternae method using split()\n",
    "\n",
    "new_res=test_string.split(spl_word)\n",
    "new_res[0]"
   ]
  },
  {
   "cell_type": "code",
   "execution_count": 49,
   "metadata": {},
   "outputs": [
    {
     "name": "stdout",
     "output_type": "stream",
     "text": [
      "2\n"
     ]
    },
    {
     "data": {
      "text/plain": [
       "0"
      ]
     },
     "execution_count": 49,
     "metadata": {},
     "output_type": "execute_result"
    }
   ],
   "source": [
    "# https://www.geeksforgeeks.org/python-longest-substring-length-of-k/\n",
    "\n",
    "# Given a String and a character K, find longest substring length of K.\n",
    "# Input : test_str = ‘abcaaaacbbaa’, K = b \n",
    "# Output : 2 \n",
    "# Explanation : b occurs twice, 2 > 1. \n",
    "\n",
    "\n",
    "test_str = 'acbbo'\n",
    "K = 'b' \n",
    "\n",
    "from itertools import groupby\n",
    "res=groupby(test_str)\n",
    "frequency=[]\n",
    "for item,freq in res:\n",
    "    # print(item,list(freq))\n",
    "    if item ==K:\n",
    "        frequency.append(len(list(freq)))\n",
    "        \n",
    "print(max(frequency))\n",
    "\n",
    "# Alternate Method\n",
    "# count=0\n",
    "# for i in range(len(test_str)):\n",
    "#     if test_str[i]==K:\n",
    "#         count+=1\n",
    "        \n",
    "#     else:\n",
    "#         count=0\n",
    "# count\n",
    "        \n",
    "    \n",
    "    "
   ]
  },
  {
   "cell_type": "code",
   "execution_count": 50,
   "metadata": {},
   "outputs": [
    {
     "data": {
      "text/plain": [
       "[0, 2, 3]"
      ]
     },
     "execution_count": 50,
     "metadata": {},
     "output_type": "execute_result"
    }
   ],
   "source": [
    "# Given a String List, and a substring, extract list of indices of Strings, in which that substring occurs.\n",
    "\n",
    "# Input : test_list = [\"Gfg is good\", \"for Geeks\", \"I love Gfg\", \"Gfg is useful\"], K = \"Gfg\" \n",
    "# Output : [0, 2, 3] \n",
    "# Explanation : \"Gfg\" is present in 0th, 2nd and 3rd element as substring.\n",
    "\n",
    "test_list = [\"Gfg is good\", \"for Geeks\", \"I love Gfg\", \"Gfg is useful\"]\n",
    "K = \"Gfg\" \n",
    "\n",
    "res=[]\n",
    "for i in range(len(test_list)):\n",
    "    if K in test_list[i]:\n",
    "        res.append(i)\n",
    "        \n",
    "res"
   ]
  },
  {
   "cell_type": "code",
   "execution_count": null,
   "metadata": {},
   "outputs": [],
   "source": [
    "# Given a string, convert the string to palindrome without any modifications like adding a character, removing a character, replacing a character etc. \n",
    "# Examples: \n",
    "\n",
    "# Input : \"mdaam\"\n",
    "# Output : \"madam\" or \"amdma\"\n",
    "\n",
    "# Input : \"abb\"\n",
    "# Output : \"bab\"\n",
    "\n",
    "# Input : \"geeksforgeeks\"\n",
    "# Output : \"No Palindrome\"\n",
    "\n",
    "# Solution:-In case of even length every character will have a copy i.e; every character will be of even number\n",
    "# In case of odd length "
   ]
  }
 ],
 "metadata": {
  "kernelspec": {
   "display_name": "Python 3",
   "language": "python",
   "name": "python3"
  },
  "language_info": {
   "codemirror_mode": {
    "name": "ipython",
    "version": 3
   },
   "file_extension": ".py",
   "mimetype": "text/x-python",
   "name": "python",
   "nbconvert_exporter": "python",
   "pygments_lexer": "ipython3",
   "version": "3.10.1"
  },
  "orig_nbformat": 4,
  "vscode": {
   "interpreter": {
    "hash": "aee8b7b246df8f9039afb4144a1f6fd8d2ca17a180786b69acc140d282b71a49"
   }
  }
 },
 "nbformat": 4,
 "nbformat_minor": 2
}
