{
 "cells": [
  {
   "cell_type": "code",
   "execution_count": 58,
   "metadata": {},
   "outputs": [
    {
     "name": "stdout",
     "output_type": "stream",
     "text": [
      "{8: {'Gfg': 4}, 2: {'best': 9}}\n",
      "{'Gfg': 4}\n",
      "{'best': 9}\n"
     ]
    }
   ],
   "source": [
    "# Given a list and dictionary, map each element of list with each item of dictionary, forming nested dictionary as value.\n",
    "\n",
    "# Input : test_dict = {‘Gfg’ : 4, ‘best’ : 9}, test_list = [8, 2]\n",
    "# Output : {8: {‘Gfg’: 4}, 2: {‘best’: 9}}\n",
    "# Explanation : Index-wise key-value pairing from list [8] to dict {‘Gfg’ : 4} and so on.\n",
    "\n",
    "# Input : test_dict = {‘Gfg’ : 4}, test_list = [8]\n",
    "# Output : {8: {‘Gfg’: 4}}\n",
    "# Explanation : Index-wise key-value pairing from list [8] to dict {‘Gfg’ : 4}.\n",
    "\n",
    "\n",
    "test_dict = {'Gfg' : 4, 'best' : 9}\n",
    "test_list = [8, 2]\n",
    "my_dict={}\n",
    "\n",
    "for k,v in zip(test_list,test_dict.items()):\n",
    "    my_dict[k]=dict([v])  #To convert tuple into dictionary first take list of tuple and then convert into ditionary\n",
    "    \n",
    "print(my_dict)\n",
    "\n",
    "\n",
    "for item in test_dict.items():\n",
    "    print(dict([item]))\n"
   ]
  },
  {
   "cell_type": "code",
   "execution_count": 78,
   "metadata": {},
   "outputs": [
    {
     "name": "stdout",
     "output_type": "stream",
     "text": [
      "{'g': {}}\n",
      "{'g': {}}\n",
      "{'g': {}}\n"
     ]
    }
   ],
   "source": [
    "# https://www.geeksforgeeks.org/python-inversion-in-nested-dictionary/ \n",
    "# Given a nested dictionary, perform inversion of keys, i.e innermost nested becomes outermost and vice-versa.\n",
    "\n",
    "# Input : test_dict = {\n",
    "#                       “a” : {“b” : {}},\n",
    "#                       “d” : {“e” : {}},\n",
    "#                       “f” : {“g” : {}\n",
    "#                       }\n",
    "\n",
    "\n",
    "# Output : {\n",
    "    # ‘b’: {‘a’: {}}, \n",
    "    # ‘e’: {‘d’: {}}, \n",
    "    # ‘g’: {‘f’: {}\n",
    "    # }\n",
    "    \n",
    "# Explanation : Nested dictionaries inverted as outer dictionary keys and viz-a-vis.\n",
    "\n",
    "# Input : test_dict = {“a” : {“b” : { “c” : {}}}}\n",
    "# Output : {‘c’: {‘b’: {‘a’: {}}}}\n",
    "# Explanation : Just a single key, mapping inverted till depth.\n",
    "\n",
    "\n",
    "test_dict = {\n",
    "'a' : {'b' : {}},\n",
    "'d' : {'e' : {}},\n",
    "'f' : {'g' : {}}\n",
    "}\n",
    "\n",
    "out_dict={}\n",
    "\n",
    "for out_key,out_value in test_dict.items():    #(a:{'b':{}})\n",
    "    sub_dict=dict([item])\n",
    "    for sub_key,sub_value in sub_dict.items():\n",
    "        print(sub_value)\n",
    "        # out_dict[]\n",
    "        \n",
    "\n"
   ]
  },
  {
   "cell_type": "code",
   "execution_count": null,
   "metadata": {},
   "outputs": [],
   "source": []
  },
  {
   "cell_type": "code",
   "execution_count": null,
   "metadata": {},
   "outputs": [],
   "source": [
    "# https://www.geeksforgeeks.org/python-swapping-hierarchy-in-nested-dictionaries/\n",
    "# Python – Swapping Hierarchy in Nested Dictionaries\n",
    "\n",
    "# Input : test_dict = {‘Gfg’: { ‘a’ : [1, 3, 7, 8], ‘b’ : [4, 9], ‘c’ : [0, 7]}} \n",
    "# Output : {‘c’: {‘Gfg’: [0, 7]}, ‘b’: {‘Gfg’: [4, 9]}, ‘a’: {‘Gfg’: [1, 3, 7, 8]}}\n",
    "\n",
    "# Input : test_dict = {‘Gfg’: {‘best’ : [1, 3, 4]}} \n",
    "# Output : {‘best’: {‘Gfg’: [1, 3, 4]}} \n",
    "\n",
    "test_dict = {\n",
    "    'Gfg': { 'a' : [1, 3, 7, 8], 'b' : [4, 9], 'c' : [0, 7]}\n",
    "    } \n",
    "\n",
    "\n",
    "Output = {\n",
    "    'c': {'Gfg': [0, 7]}, \n",
    "    'b': {'Gfg': [4, 9]}, \n",
    "    'a': {'Gfg': [1, 3, 7, 8]}\n",
    "    }"
   ]
  },
  {
   "cell_type": "code",
   "execution_count": 82,
   "metadata": {},
   "outputs": [
    {
     "data": {
      "text/plain": [
       "{'best': 5, 'is': 2, 'gfg': 4}"
      ]
     },
     "execution_count": 82,
     "metadata": {},
     "output_type": "execute_result"
    }
   ],
   "source": [
    "# The original dictionary : {'gfg': 4, 'is': 2, 'best': 5}\n",
    "# The reversed order dictionary : {'best': 5, 'is': 2, 'gfg': 4}\n",
    "\n",
    "input_dict={'gfg': 4, 'is': 2, 'best': 5}\n",
    "l=[]\n",
    "for item in input_dict.items():\n",
    "    l.append(item)\n",
    "    \n",
    "l.reverse()\n",
    "output_dict=dict(l)\n",
    "output_dict"
   ]
  },
  {
   "cell_type": "code",
   "execution_count": 85,
   "metadata": {},
   "outputs": [
    {
     "name": "stdout",
     "output_type": "stream",
     "text": [
      "s is not present in list \n"
     ]
    }
   ],
   "source": [
    "# https://www.geeksforgeeks.org/python-extract-keys-value-if-key-present-in-list-and-dictionary/\n",
    "# Python – Extract Key’s Value, if Key Present in List and Dictionary\n",
    "\n",
    "# Given a list, dictionary, and a Key K, print the value of K from the dictionary if the key is present in both, the list and the dictionary.\n",
    "\n",
    "# Input : test_list = [\"Gfg\", \"is\", \"Good\", \"for\", \"Geeks\"], \n",
    "# test_dict = {\"Gfg\" : 5, \"Best\" : 6}, K = \"Gfg\" \n",
    "# Output : 5 \n",
    "# Explanation : \"Gfg\" is present in list and has value 5 in dictionary. \n",
    "\n",
    "# Input : test_list = [\"Good\", \"for\", \"Geeks\"], \n",
    "# test_dict = {\"Gfg\" : 5, \"Best\" : 6}, K = \"Gfg\" \n",
    "# Output : None \n",
    "# Explanation : \"Gfg\" not present in List.\n",
    "\n",
    "\n",
    "test_list = [\"Gfg\", \"is\", \"Good\", \"for\", \"Geeks\"], \n",
    "test_dict = {\"Gfg\" : 5, \"Best\" : 6} \n",
    "K = \"Gfg\" \n",
    "\n",
    "if K in test_dict.keys() and test_list:\n",
    "    print(test_dict[K])\n",
    "else:\n",
    "    print(f\"{K} is not present in list \")"
   ]
  },
  {
   "cell_type": "code",
   "execution_count": 156,
   "metadata": {},
   "outputs": [
    {
     "name": "stdout",
     "output_type": "stream",
     "text": [
      "{'Gfg': 3, 'is': 7, 'for': 6, 'geeks': 'CS'}\n",
      "The constructed dictionary : {'Gfg': 3, 'is': 7, 'for': 6, 'geeks': 'CS'}\n",
      "The constructed dictionary : {'Gfg': 3, 'is': 7, 'for': 6, 'geeks': 'CS'}\n",
      "{'Gfg': 3, 'is': 7, 'for': 6, 'geeks': 'CS'}\n"
     ]
    }
   ],
   "source": [
    "# https://www.geeksforgeeks.org/python-remove-keys-with-values-greater-than-k-including-mixed-values/\n",
    "\n",
    "# Python – Remove keys with Values Greater than K ( Including mixed values )\n",
    "\n",
    "# Given a dictionary with key-value pairs, remove all the keys with values greater than K, including mixed values.\n",
    "\n",
    "# Input : test_dict = {‘Gfg’ : 3, ‘is’ : 7, ‘best’ : 10, ‘for’ : 6, ‘geeks’ : ‘CS’}, K = 7 \n",
    "# Output : {‘Gfg’ : 3, ‘for’ : 6, ‘geeks’ : ‘CS’} \n",
    "# Explanation : All values greater than K are removed. Mixed value is retained. \n",
    "\n",
    "# Input : test_dict = {‘Gfg’ : 3, ‘is’ : 7, ‘best’ : 10, ‘for’ : 6, ‘geeks’ : ‘CS’}, K = 1 \n",
    "# Output : {‘geeks’ : ‘CS’} \n",
    "# Explanation : Only Mixed value is retained.\n",
    "\n",
    "\n",
    "test_dict = {'Gfg' : 3, 'is' : 7, 'best' : 10, 'for' : 6,'geeks':'CS'}\n",
    "K = 7\n",
    "\n",
    "\n",
    "# Method 1: \n",
    "\n",
    "res_dict={}\n",
    "for key in test_dict:\n",
    "    try:\n",
    "        if test_dict[key]<=K:\n",
    "            res_dict[key]=test_dict[key]\n",
    "    except:\n",
    "        res_dict[key]=test_dict[key]\n",
    "\n",
    "print(res_dict)\n",
    "\n",
    "\n",
    "# # Method 2 Alternative Method using dictionary comprehension\n",
    "\n",
    "res_dict2={key : val for key, val in test_dict.items() if not((type(val)==int) and test_dict[key]>K)==True}  # AND operator==>if any condition is false, the return is False\n",
    "# If first condition is False it will not go to second condition ==> It will directly return False\n",
    "\t\t\n",
    "# printing result\n",
    "print(\"The constructed dictionary : \" + str(res_dict2))\n",
    "\n",
    "# Method 3\n",
    "\n",
    "res3 = {key : val for key, val in test_dict.items() if not(isinstance(val, int) and (val > K))==True} #Here we can skip 'True' result will not change.\n",
    "# Just for clarity of concept i have written True\n",
    "         \n",
    "print(\"The constructed dictionary : \" + str(res3))\n",
    "\n",
    "# Method 4:\n",
    "res_dict4={}\n",
    "for key in test_dict:\n",
    "    if not(type(test_dict[key])==int and test_dict[key]>K ) == True:\n",
    "        res_dict4[key]=test_dict[key]\n",
    " \n",
    "\n",
    "print(res_dict4)"
   ]
  },
  {
   "cell_type": "code",
   "execution_count": 171,
   "metadata": {},
   "outputs": [
    {
     "name": "stdout",
     "output_type": "stream",
     "text": [
      "dict_keys(['gfg', 'best'])\n",
      "dict_keys(['gfg', 'is', 'best', 'CS'])\n",
      "dict_keys(['gfg'])\n",
      "4\n",
      "4\n"
     ]
    }
   ],
   "source": [
    "# https://www.geeksforgeeks.org/python-dictionary-with-maximum-count-of-pairs/\n",
    "\n",
    "# Given dictionary list, extract dictionary with maximum keys.\n",
    "\n",
    "# Input : test_list = [{“gfg”: 2, “best” : 4}, {“gfg”: 2, “is” : 3, “best” : 4, “CS” : 9}, {“gfg”: 2}]\n",
    "# Output : 4\n",
    "# Explanation : 2nd dictionary has maximum keys, 4.\n",
    "\n",
    "# Input : test_list = [{“gfg”: 2, “best” : 4}, {“gfg”: 2}]\n",
    "# Output : 2\n",
    "# Explanation : 1st dictionary has maximum keys, 2.\n",
    "\n",
    "test_list = [{'gfg': 2, 'best' : 4}, {'gfg': 2, 'is' : 3, 'best' : 4, 'CS' : 9}, {'gfg': 2}]\n",
    "out=[]\n",
    "for ele in test_list:\n",
    "    out.append((len(list(ele.keys()))))\n",
    "    \n",
    "print(max(out))\n",
    "\n",
    "# Alternative method using list comprehension\n",
    "    \n",
    "result=[len(ele.keys()) for ele in test_list]\n",
    "result\n",
    "print(max(result))\n",
    "\n"
   ]
  },
  {
   "cell_type": "code",
   "execution_count": 217,
   "metadata": {},
   "outputs": [
    {
     "name": "stdout",
     "output_type": "stream",
     "text": [
      "{'cat': 'act', 'dog': 'dgo', 'tac': 'act', 'god': 'dgo', 'act': 'act'}\n",
      "['dgo', 'act']\n",
      "dog god cat tac act\n"
     ]
    }
   ],
   "source": [
    "# https://www.geeksforgeeks.org/print-anagrams-together-python-using-list-dictionary/\n",
    "\n",
    "# Print anagrams together in Python using List and Dictionary\n",
    "\n",
    "# Input: arr = [‘cat’, ‘dog’, ‘tac’, ‘god’, ‘act’]\n",
    "\n",
    "# Output: ‘cat tac act dog god’\n",
    "\n",
    "arr = ['cat', 'dog', 'tac', 'god', 'act']\n",
    "res=[]\n",
    "my_dict={}\n",
    "my_dict1={}\n",
    "for item in arr:\n",
    "    new_item=\"\".join(sorted(item))\n",
    "    my_dict[item]=new_item\n",
    "    \n",
    "    \n",
    "print(my_dict)\n",
    "\n",
    "sorted_val=list(set(sorted(my_dict.values())))\n",
    "print((sorted_val))\n",
    "\n",
    "for item in sorted_val:\n",
    "    for key in my_dict:\n",
    "        if my_dict[key]==item:\n",
    "            res.append(key)\n",
    "            \n",
    "res=\" \".join(res)\n",
    "print(res)\n",
    "    \n",
    "    \n",
    "# The main difference between sort and sorted in Python is that sort \n",
    "# function returns nothing and makes changes to the original sequence, \n",
    "# while the sorted () function creates a new sequence type containing a sorted version of the given sequence"
   ]
  },
  {
   "cell_type": "code",
   "execution_count": null,
   "metadata": {},
   "outputs": [],
   "source": []
  }
 ],
 "metadata": {
  "kernelspec": {
   "display_name": "Python 3",
   "language": "python",
   "name": "python3"
  },
  "language_info": {
   "codemirror_mode": {
    "name": "ipython",
    "version": 3
   },
   "file_extension": ".py",
   "mimetype": "text/x-python",
   "name": "python",
   "nbconvert_exporter": "python",
   "pygments_lexer": "ipython3",
   "version": "3.10.1"
  },
  "orig_nbformat": 4
 },
 "nbformat": 4,
 "nbformat_minor": 2
}
