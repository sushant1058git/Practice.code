{
 "cells": [
  {
   "cell_type": "markdown",
   "metadata": {},
   "source": [
    "Leetcode Questions and solutions"
   ]
  },
  {
   "cell_type": "markdown",
   "metadata": {},
   "source": [
    "1. Two Sum"
   ]
  },
  {
   "cell_type": "code",
   "execution_count": 188,
   "metadata": {},
   "outputs": [
    {
     "name": "stdout",
     "output_type": "stream",
     "text": [
      "[0, 1]\n"
     ]
    }
   ],
   "source": [
    "nums=[2,7,11,15]\n",
    "target=9\n",
    "class Solution:\n",
    "    def twoSum(self, nums, target):\n",
    "        for i in range(len(nums)):\n",
    "            for j in range(i+1,len(nums)):\n",
    "                if nums[i]+nums[j]==target:\n",
    "                    return [i,j]\n",
    "                \n",
    "c=Solution()\n",
    "print(c.twoSum(nums,target))"
   ]
  },
  {
   "cell_type": "markdown",
   "metadata": {},
   "source": [
    "#2. Palindrome Number\n",
    "\n",
    "\n"
   ]
  },
  {
   "cell_type": "code",
   "execution_count": 189,
   "metadata": {},
   "outputs": [
    {
     "name": "stdout",
     "output_type": "stream",
     "text": [
      "True\n"
     ]
    }
   ],
   "source": [
    "class Solution:\n",
    "    def isPalindrome(self, x):\n",
    "        if str(x)==str(x)[::-1]:\n",
    "            return True\n",
    "        \n",
    "c=Solution()\n",
    "print(c.isPalindrome(121))"
   ]
  },
  {
   "cell_type": "markdown",
   "metadata": {},
   "source": [
    "#3. Container With Most Water"
   ]
  },
  {
   "cell_type": "code",
   "execution_count": 190,
   "metadata": {},
   "outputs": [
    {
     "name": "stdout",
     "output_type": "stream",
     "text": [
      "9\n"
     ]
    }
   ],
   "source": [
    "height=[2,3,4,5,6]\n",
    "class Solution:\n",
    "    def maxArea(self, height) -> int:\n",
    "        max_area=0\n",
    "        area=0\n",
    "        for i in range(0,len(height)):\n",
    "            for j in range(i+1,len(height)):\n",
    "                area=min(height[i],height[j])*(j-i)\n",
    "                max_area=max(max_area,area)\n",
    "        return max_area\n",
    "            \n",
    "c=Solution()\n",
    "print(c.maxArea(height))"
   ]
  },
  {
   "cell_type": "markdown",
   "metadata": {},
   "source": [
    "#4.Valid parenthesis Problem"
   ]
  },
  {
   "cell_type": "code",
   "execution_count": 191,
   "metadata": {},
   "outputs": [
    {
     "name": "stdout",
     "output_type": "stream",
     "text": [
      "False\n"
     ]
    }
   ],
   "source": [
    "string=\"()[({)}]\"\n",
    "opening=['(','{','[']\n",
    "stack=[]\n",
    "\n",
    "def isValid(string):\n",
    "    for i in string:\n",
    "        if i in opening:\n",
    "            stack.append(i)\n",
    "        elif stack==[]:\n",
    "            return False\n",
    "        elif i==')' and stack.pop()!='(' or i=='}' and stack.pop()!='{' or i==']' and stack.pop() != '[':\n",
    "            return False\n",
    "    return not stack\n",
    "        \n",
    "        \n",
    "a=isValid(string)\n",
    "print(a)"
   ]
  },
  {
   "cell_type": "markdown",
   "metadata": {},
   "source": [
    "5. Merge Two Sorted Lists\n",
    "\n",
    "You are given the heads of two sorted linked lists list1 and list2.\n",
    "\n",
    "Merge the two lists in a one sorted list. The list should be made by splicing together the nodes of the first two lists.\n",
    "\n",
    "Return the head of the merged linked list."
   ]
  },
  {
   "cell_type": "code",
   "execution_count": 192,
   "metadata": {},
   "outputs": [
    {
     "name": "stdout",
     "output_type": "stream",
     "text": [
      "1-->2-->4-->None\n",
      "1-->3-->4-->None\n",
      "1-->1-->2-->4-->None\n"
     ]
    }
   ],
   "source": [
    "class Node:\n",
    "    def __init__(self, val=0):\n",
    "        self.val = val\n",
    "        self.next = None\n",
    "        \n",
    "class LinkedList:\n",
    "    def __init__(self,head=None):\n",
    "        self.head=head\n",
    "        \n",
    "    def add(self,value):\n",
    "        newNode=Node(value)\n",
    "        if self.head==None:\n",
    "            self.head=newNode\n",
    "        else:\n",
    "            newNode.next=self.head\n",
    "            self.head=newNode\n",
    "            \n",
    "    def printLinkedList(self):\n",
    "        current_node=self.head\n",
    "        while current_node is not None:\n",
    "            print(str(current_node.val) + '-->', end='')\n",
    "            current_node=current_node.next\n",
    "        print(\"None\")\n",
    "\n",
    "class Solution:\n",
    "\tdef mergeTwoLists(self,head1,head2):\n",
    "\t\tdummyNode=Node()\n",
    "\t\tcurr=dummyNode\n",
    "\t\tif  head1 is not None and head2 is not None:\n",
    "\t\t\tif head1.val >= head2.val:\n",
    "\t\t\t\tcurr.next = head2\n",
    "\t\t\t\thead2 = head2.next\n",
    "\t\t\telse:\n",
    "\t\t\t\tcurr.next == head1\n",
    "\t\t\t\thead1 = head1.next\n",
    "\t\t\tcurr=curr.next\n",
    "\t\t\t\n",
    "\t\tif head1 is None:\n",
    "\t\t\tcurr.next=head2\n",
    "\t\telse:\n",
    "\t\t\tcurr.next=head1\n",
    "\t\t\t\n",
    "\t\t\t\n",
    "\t\treturn dummyNode.next\n",
    "        \n",
    "l=LinkedList()\n",
    "p=LinkedList()\n",
    "l.add(4)    \n",
    "l.add(2)    \n",
    "l.add(1)\n",
    "m=LinkedList()\n",
    "m.add(4)    \n",
    "m.add(3)    \n",
    "m.add(1)\n",
    "l.printLinkedList() \n",
    "m.printLinkedList()\n",
    "s=Solution()\n",
    "p.head=s.mergeTwoLists(l.head,m.head)\n",
    "p.printLinkedList()"
   ]
  },
  {
   "cell_type": "markdown",
   "metadata": {},
   "source": [
    "6. Search Insert Position:- \n",
    "    Given a sorted array of distinct integers and a target value, return the index if the target is found. If not, return the index where it would be if it were inserted in order."
   ]
  },
  {
   "cell_type": "code",
   "execution_count": 193,
   "metadata": {},
   "outputs": [
    {
     "data": {
      "text/plain": [
       "4"
      ]
     },
     "execution_count": 193,
     "metadata": {},
     "output_type": "execute_result"
    }
   ],
   "source": [
    "l=[1,2,3,4]\n",
    "\n",
    "def searchInsert(nums, target):\n",
    "    for i in nums: #---O(n)\n",
    "        if i==target:\n",
    "            return nums.index(i)\n",
    "        else:\n",
    "            nums.append(target)#---O(n)\n",
    "            n=sorted(nums)\n",
    "            return n.index(target)\n",
    "searchInsert(l,5)"
   ]
  },
  {
   "cell_type": "markdown",
   "metadata": {},
   "source": [
    "7. Single Number:-\n",
    "Given a non-empty array of integers nums, every element appears twice except for one. Find that single one."
   ]
  },
  {
   "cell_type": "code",
   "execution_count": 194,
   "metadata": {},
   "outputs": [
    {
     "data": {
      "text/plain": [
       "4"
      ]
     },
     "execution_count": 194,
     "metadata": {},
     "output_type": "execute_result"
    }
   ],
   "source": [
    "import collections\n",
    "class Solution:\n",
    "    def singleNumber(self, nums):\n",
    "        p=collections.Counter(nums)\n",
    "        p_dict=dict(p)\n",
    "        for item in p_dict:\n",
    "            if p_dict[item]==1:\n",
    "                return item\n",
    "            \n",
    "s=Solution()\n",
    "s.singleNumber([4,1,2,1,2])"
   ]
  },
  {
   "cell_type": "code",
   "execution_count": 195,
   "metadata": {},
   "outputs": [
    {
     "data": {
      "text/plain": [
       "'fl'"
      ]
     },
     "execution_count": 195,
     "metadata": {},
     "output_type": "execute_result"
    }
   ],
   "source": [
    "# https://leetcode.com/problems/longest-common-prefix/\n",
    "# Write a function to find the longest common prefix string amongst an array of strings.\n",
    "# Input: strs = [\"flower\",\"flow\",\"flight\"]\n",
    "# Output: \"fl\"\n",
    "\n",
    "# Input: strs = [\"dog\",\"racecar\",\"car\"]\n",
    "# Output: \"\"\n",
    "# Explanation: There is no common prefix among the input strings.\n",
    "strs = [\"flower\",\"flow\",\"flight\"]\n",
    "class Solution:\n",
    "    def longestCommonPrefix(self, strs):\n",
    "        if len(strs)==0:\n",
    "           return \"\"\n",
    "        else:\n",
    "           base=strs[0]\n",
    "           for i in range(len(base)):\n",
    "               for word in strs[1:]:\n",
    "                   if i==len(word) or base[i] != word[i]:\n",
    "                       return base[0:i]\n",
    "        return base\n",
    "    \n",
    "s=Solution()\n",
    "s.longestCommonPrefix(strs)\n",
    "            "
   ]
  },
  {
   "cell_type": "code",
   "execution_count": 196,
   "metadata": {},
   "outputs": [
    {
     "data": {
      "text/plain": [
       "3"
      ]
     },
     "execution_count": 196,
     "metadata": {},
     "output_type": "execute_result"
    }
   ],
   "source": [
    "# https://leetcode.com/problems/longest-substring-without-repeating-characters/\n",
    "# Given a string s, find the length of the longest substring without repeating characters.\n",
    "# Example 1:\n",
    "# Input: s = \"abcabcbb\"\n",
    "# Output: 3\n",
    "# Explanation: The answer is \"abc\", with the length of 3.\n",
    "\n",
    "s = \"dvdf\"\n",
    "\n",
    "class Solution:\n",
    "  def lengthOfLongestSubstring(self,s):\n",
    "    l=[]\n",
    "    length=[]\n",
    "    if s==\"\":   #In case if string contains only multiple spaces, Just remove spaces and return 0\n",
    "      return 0\n",
    "    for char in s:\n",
    "        if char in l:\n",
    "            length.append(len(l))\n",
    "            l=[]\n",
    "            l.append(char)\n",
    "        l.append(char)\n",
    "        length.append(len(l))\n",
    "            \n",
    "    return max(length)\n",
    "        \n",
    "            \n",
    "obj=Solution()\n",
    "obj.lengthOfLongestSubstring(s)"
   ]
  },
  {
   "cell_type": "code",
   "execution_count": 197,
   "metadata": {},
   "outputs": [],
   "source": [
    "s = \"abcabcbb\"\n",
    "\n",
    "charset=set()\n",
    "l=0\n",
    "for r in range(len(s)):\n",
    "    while s[r] in charset:\n",
    "        charset.remove(s[l])\n",
    "        l+=1\n",
    "    charset.add(s[r])"
   ]
  },
  {
   "cell_type": "code",
   "execution_count": 198,
   "metadata": {},
   "outputs": [
    {
     "ename": "TabError",
     "evalue": "inconsistent use of tabs and spaces in indentation (2898834582.py, line 15)",
     "output_type": "error",
     "traceback": [
      "\u001b[0;36m  Input \u001b[0;32mIn [198]\u001b[0;36m\u001b[0m\n\u001b[0;31m    current = \"\".join(c)\u001b[0m\n\u001b[0m    ^\u001b[0m\n\u001b[0;31mTabError\u001b[0m\u001b[0;31m:\u001b[0m inconsistent use of tabs and spaces in indentation\n"
     ]
    }
   ],
   "source": [
    "import math\n",
    "\n",
    "def longestUniqueSubsttr(str):\n",
    "\ttest = \"\"\n",
    "\t# Result\n",
    "\tmaxLength = -1\n",
    "\t\n",
    "\t# Return zero if string is empty\n",
    "\tif (len(str) == 0):\n",
    "\t\treturn 0\n",
    "\telif(len(str) == 1):\n",
    "\t\treturn 1\n",
    "\n",
    "\tfor c in list(str):\n",
    "        current = \"\".join(c)\n",
    "\t\tif (current in test):\n",
    "\t\t\ttest = test[test.index(current) + 1:]\n",
    "\t\ttest = test + \"\".join(c)\n",
    "\t\tmaxLength = max(len(test), maxLength)\n",
    "\treturn maxLength\n",
    "\n",
    "\n",
    "\n"
   ]
  },
  {
   "cell_type": "code",
   "execution_count": null,
   "metadata": {},
   "outputs": [],
   "source": [
    "def longestUniqueSubsttr(str):\n",
    "    test=\"\"\n",
    "    maxLength = -1\n",
    "    \n",
    "    if len(str)==0:\n",
    "        return 0\n",
    "    elif len(str)==1:\n",
    "        return 1\n",
    "    \n",
    "    for char in str:\n",
    "        if char in test:\n",
    "            test = test[test.index(char)+1:]\n",
    "        test=test+char\n",
    "        maxlength=max(len(test),maxLength)\n",
    "        \n",
    "    return maxlength\n",
    "\n",
    "longestUniqueSubsttr(\"pwwkew\")"
   ]
  },
  {
   "cell_type": "code",
   "execution_count": null,
   "metadata": {},
   "outputs": [
    {
     "name": "stdout",
     "output_type": "stream",
     "text": [
      "2\n",
      "4\n"
     ]
    }
   ],
   "source": [
    "# Given an array nums of size n, return the majority element.\n",
    "\n",
    "# The majority element is the element that appears more than ⌊n / 2⌋ times. \n",
    "# You may assume that the majority element always exists in the array.\n",
    "\n",
    "# Example 1:\n",
    "\n",
    "# Input: nums = [3,2,3]\n",
    "# Output: 3\n",
    "\n",
    "# Example 2:\n",
    "# Input: nums = [2,2,1,1,1,2,2]\n",
    "# Output: 2\n",
    "\n",
    "nums = [2,2,1,1,1,2,2]\n",
    "\n",
    "\n",
    "from collections import Counter\n",
    "\n",
    "result=Counter(nums)\n",
    "result=dict(result)\n",
    "result\n",
    "\n",
    "for key in result:\n",
    "    if result[key]>len(nums)/2:\n",
    "        print(key)\n",
    "\n",
    "\n",
    "# Alternate Method\n",
    "\n",
    "my_dict={}\n",
    "\n",
    "for num in nums:\n",
    "    if num in my_dict:\n",
    "        my_dict[num]+=1\n",
    "    else:\n",
    "        my_dict[num]=1\n",
    "        \n",
    "print(max(list(my_dict.values())))\n"
   ]
  },
  {
   "cell_type": "code",
   "execution_count": null,
   "metadata": {},
   "outputs": [
    {
     "data": {
      "text/plain": [
       "-1"
      ]
     },
     "execution_count": 125,
     "metadata": {},
     "output_type": "execute_result"
    }
   ],
   "source": [
    "# Given two strings needle and haystack, return the index of the first occurrence of needle in haystack, \n",
    "# or -1 if needle is not part of haystack.\n",
    "\n",
    "# Example 1:\n",
    "# Input: haystack = \"sadbutsad\", needle = \"sad\"\n",
    "# Output: 0\n",
    "# Explanation: \"sad\" occurs at index 0 and 6.\n",
    "# The first occurrence is at index 0, so we return 0.\n",
    "\n",
    "# Example 2:\n",
    "# Input: haystack = \"leetcode\", needle = \"leeto\"\n",
    "# Output: -1\n",
    "# Explanation: \"leeto\" did not occur in \"leetcode\", so we return -1.\n",
    "\n",
    "\n",
    "haystack = \"leetcode\"\n",
    "needle = \"leeto\"\n",
    "def sub_string(haystack,needle):\n",
    "    if needle in haystack:\n",
    "        return haystack.index(needle)   #.index() always return index of first occurance\n",
    "    else:\n",
    "        return -1\n",
    "    \n",
    "    \n",
    "sub_string(haystack,needle)\n",
    "\n"
   ]
  },
  {
   "cell_type": "code",
   "execution_count": null,
   "metadata": {},
   "outputs": [
    {
     "data": {
      "text/plain": [
       "[1, 2, 5]"
      ]
     },
     "execution_count": 187,
     "metadata": {},
     "output_type": "execute_result"
    }
   ],
   "source": [
    "# https://leetcode.com/problems/plus-one/\n",
    "\n",
    "# Input: digits = [1,2,3]\n",
    "# Output: [1,2,4]\n",
    "# Explanation: The array represents the integer 123.\n",
    "# Incrementing by one gives 123 + 1 = 124.\n",
    "# Thus, the result should be [1,2,4].\n",
    "\n",
    "# Input: digits = [9]\n",
    "# Output: [1,0]\n",
    "# Explanation: The array represents the integer 9.\n",
    "# Incrementing by one gives 9 + 1 = 10.\n",
    "# Thus, the result should be [1,0].\n",
    "\n",
    "\n",
    "digits = [1,2,4]\n",
    "\n",
    "integerDigit=int(\"\".join(str(ele) for ele in digits))\n",
    "newNumber=integerDigit+1\n",
    "result=[int(x) for x in str(newNumber)]\n",
    "result\n"
   ]
  },
  {
   "cell_type": "code",
   "execution_count": null,
   "metadata": {},
   "outputs": [
    {
     "data": {
      "text/plain": [
       "True"
      ]
     },
     "execution_count": 145,
     "metadata": {},
     "output_type": "execute_result"
    }
   ],
   "source": [
    "# https://leetcode.com/problems/valid-palindrome/\n",
    "\n",
    "# Input: s = \"A man, a plan, a canal: Panama\"\n",
    "# Output: true\n",
    "# Explanation: \"amanaplanacanalpanama\" is a palindrome.\n",
    "\n",
    "import re\n",
    "\n",
    "s = \"A man, a plan, a canal: Panama\"\n",
    "s=s.replace(\" \",\"\").lower()\n",
    "\n",
    "s=re.sub(r'[^A-Za-z0-9]',\"\",s)\n",
    "\n",
    "def isPallindrome(s):\n",
    "    l=0\n",
    "    r=len(s)-1\n",
    "    \n",
    "    if s==\"\":\n",
    "        return True\n",
    "    \n",
    "    while (l<r):\n",
    "        if s[l]==s[r]:\n",
    "            l+=1\n",
    "            r-=1\n",
    "        else:\n",
    "            return False\n",
    "    return True\n",
    "\n",
    "isPallindrome(s)\n"
   ]
  },
  {
   "cell_type": "code",
   "execution_count": null,
   "metadata": {},
   "outputs": [
    {
     "data": {
      "text/plain": [
       "False"
      ]
     },
     "execution_count": 186,
     "metadata": {},
     "output_type": "execute_result"
    }
   ],
   "source": [
    "# https://leetcode.com/problems/happy-number/\n",
    "\n",
    "# Write an algorithm to determine if a number n is happy.\n",
    "\n",
    "# A happy number is a number defined by the following process:\n",
    "\n",
    "# Starting with any positive integer, replace the number by the sum of the squares of its digits.\n",
    "# Repeat the process until the number equals 1 (where it will stay), or it loops endlessly in a cycle which does not include 1.\n",
    "# Those numbers for which this process ends in 1 are happy.\n",
    "# Return true if n is a happy number, and false if not.\n",
    "\n",
    " \n",
    "\n",
    "# Example 1:\n",
    "\n",
    "# Input: n = 19\n",
    "# Output: true\n",
    "# Explanation:\n",
    "# 1^2 + 9^2 = 82\n",
    "# 8^2 + 2^2 = 68\n",
    "# 6^2 + 8^2 = 100\n",
    "# 1^2 + 0^2 + 0^2 = 1\n",
    "l=[]\n",
    "class Solution:\n",
    "    def isHappy(self, n: int) -> bool: #n=19\n",
    "        sumOfNum=sum(int(i)**2 for i in str(n))\n",
    "                  \n",
    "        if sumOfNum==1:\n",
    "            return True\n",
    "        \n",
    "        elif sumOfNum in l:\n",
    "            return False\n",
    "        \n",
    "        l.append(sumOfNum)  #We are appending sumOfNum to l in order to avoid infinite loop because if sumOfNum \n",
    "        # is already there in l, then cycle will again start in infinite loop\n",
    "        return self.isHappy(sumOfNum)\n",
    "            \n",
    "        \n",
    "        \n",
    "obj=Solution()\n",
    "obj.isHappy(4)"
   ]
  },
  {
   "cell_type": "code",
   "execution_count": 2,
   "metadata": {},
   "outputs": [
    {
     "data": {
      "text/plain": [
       "0"
      ]
     },
     "execution_count": 2,
     "metadata": {},
     "output_type": "execute_result"
    }
   ],
   "source": [
    "# https://leetcode.com/problems/add-digits/\n",
    "\n",
    "# Given an integer num, repeatedly add all its digits until the result has only one digit, and return it.\n",
    "\n",
    "# Example 1:\n",
    "\n",
    "# Input: num = 38\n",
    "# Output: 2\n",
    "# Explanation: The process is\n",
    "# 38 --> 3 + 8 --> 11\n",
    "# 11 --> 1 + 1 --> 2 \n",
    "# Since 2 has only one digit, return it.\n",
    "\n",
    "class Solution:\n",
    "    def addDigits(self, num: int) -> int:\n",
    "        \n",
    "        if num<10:\n",
    "            return num\n",
    "        \n",
    "        sumofNum=sum(int(x) for x in str(num))\n",
    "        \n",
    "        return self.addDigits(sumofNum)\n",
    "    \n",
    "obj=Solution()\n",
    "obj.addDigits(0)"
   ]
  },
  {
   "cell_type": "code",
   "execution_count": 5,
   "metadata": {},
   "outputs": [
    {
     "data": {
      "text/plain": [
       "[2]"
      ]
     },
     "execution_count": 5,
     "metadata": {},
     "output_type": "execute_result"
    }
   ],
   "source": [
    "# https://leetcode.com/problems/find-all-numbers-disappeared-in-an-array/\n",
    "\n",
    "# Find All Numbers Disappeared in an Array\n",
    "\n",
    "# Given an array nums of n integers where nums[i] is in the range [1, n], \n",
    "# return an array of all the integers in the range [1, n] that do not appear in nums.\n",
    "\n",
    " \n",
    "\n",
    "# Example 1:\n",
    "# Input: nums = [4,3,2,7,8,2,3,1]\n",
    "# Output: [5,6]\n",
    "\n",
    "# Example 2:\n",
    "# Input: nums = [1,1]\n",
    "# Output: [2]\n",
    "\n",
    "\n",
    "from typing import List  #This is optional==>Directly Used from  LeetCode,so using it,otherwise no need to import\n",
    "nums = [1,1]\n",
    "\n",
    "class Solution:\n",
    "    def findDisappearedNumbers(self, nums: List[int]) -> List[int]:\n",
    "        l=[]\n",
    "        for i in range(1,len(nums)+1):\n",
    "            if i not in nums:\n",
    "                l.append(i)\n",
    "                \n",
    "        return l\n",
    "    \n",
    "obj=Solution()\n",
    "obj.findDisappearedNumbers(nums)\n",
    "                \n",
    "                \n",
    "    \n"
   ]
  },
  {
   "cell_type": "code",
   "execution_count": 10,
   "metadata": {},
   "outputs": [
    {
     "name": "stdout",
     "output_type": "stream",
     "text": [
      "['a', 'a', 'a', 'g', 'm', 'n', 'r']\n"
     ]
    },
    {
     "data": {
      "text/plain": [
       "True"
      ]
     },
     "execution_count": 10,
     "metadata": {},
     "output_type": "execute_result"
    }
   ],
   "source": [
    "s = \"anagram\"\n",
    "t = \"nagaram\"\n",
    "\n",
    "class Solution:\n",
    "    def isAnagram(self, s: str, t: str) -> bool:\n",
    "        if len(s)!=len(t):\n",
    "            return False\n",
    "        else:\n",
    "            if sorted(s)==sorted(t):\n",
    "                return True\n",
    "            else:\n",
    "                return False\n",
    "            \n",
    "obj=Solution()\n",
    "obj.isAnagram(s,t)"
   ]
  },
  {
   "cell_type": "code",
   "execution_count": 17,
   "metadata": {},
   "outputs": [
    {
     "data": {
      "text/plain": [
       "False"
      ]
     },
     "execution_count": 17,
     "metadata": {},
     "output_type": "execute_result"
    }
   ],
   "source": [
    "# https://leetcode.com/problems/valid-perfect-square/description/\n",
    "\n",
    "# Given a positive integer num, return true if num is a perfect square or false otherwise.\n",
    "# A perfect square is an integer that is the square of an integer. In other words, it is the product of some integer with itself.\n",
    "# You must not use any built-in library function, such as sqrt.\n",
    "\n",
    "# 1. Linear Seearch\n",
    "class Solution:\n",
    "    def isPerfectSquare(self, num: int) -> bool:\n",
    "        if num==1:\n",
    "            return True\n",
    "        for i in range(num//3):  #Just randomly //by 3(to reduce no. of iterations)\n",
    "            if i**2==num:\n",
    "                return True\n",
    "\n",
    "        return False\n",
    "    \n",
    "# 2. Alternative method using binary search\n",
    "\n",
    "class Solution2:\n",
    "    def isPerfectSquare(self, num: int) -> bool:\n",
    "            l=1\n",
    "            r=num\n",
    "            while l<=r:\n",
    "                mid=(l+r)//2\n",
    "                if mid*mid==num:\n",
    "                    return True\n",
    "                elif mid*mid > num:\n",
    "                    r=mid-1\n",
    "                else:\n",
    "                    l=mid+1\n",
    "            return False\n",
    "        \n",
    "obj2=Solution2()\n",
    "obj2.isPerfectSquare(14)\n",
    "       "
   ]
  }
 ],
 "metadata": {
  "kernelspec": {
   "display_name": "Python 3.10.1 64-bit",
   "language": "python",
   "name": "python3"
  },
  "language_info": {
   "codemirror_mode": {
    "name": "ipython",
    "version": 3
   },
   "file_extension": ".py",
   "mimetype": "text/x-python",
   "name": "python",
   "nbconvert_exporter": "python",
   "pygments_lexer": "ipython3",
   "version": "3.10.1"
  },
  "orig_nbformat": 4,
  "vscode": {
   "interpreter": {
    "hash": "aee8b7b246df8f9039afb4144a1f6fd8d2ca17a180786b69acc140d282b71a49"
   }
  }
 },
 "nbformat": 4,
 "nbformat_minor": 2
}
