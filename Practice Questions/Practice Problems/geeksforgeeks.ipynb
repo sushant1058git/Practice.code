{
 "cells": [
  {
   "cell_type": "code",
   "execution_count": null,
   "metadata": {},
   "outputs": [],
   "source": [
    "A=[11,4,12,7]\n",
    "\n",
    "def findMaxNumRec(A,n):\n",
    "    if n==1:\n",
    "        return A[0]\n",
    "    return max(A(n-1),findMaxNumRec(A,n-1))\n",
    "\n",
    "\n",
    "findMaxNumRec(A,4)\n"
   ]
  },
  {
   "cell_type": "code",
   "execution_count": null,
   "metadata": {},
   "outputs": [],
   "source": [
    "l=[5,8,45,65,878,34,67,4,0]\n",
    "\n",
    "def Biggest_number(l):\n",
    "    biggest_no=l[0]\n",
    "    for item in l:\n",
    "        if item>biggest_no:\n",
    "            biggest_no=item\n",
    "            \n",
    "    print(biggest_no)\n",
    "    \n",
    "Biggest_number(l)"
   ]
  },
  {
   "cell_type": "code",
   "execution_count": null,
   "metadata": {},
   "outputs": [],
   "source": [
    "#  Question 1:Find the missing number from myList\n",
    "\n",
    "from math import prod\n",
    "\n",
    "\n",
    "mylist = [1, 2, 3, 4, 5, 6, 7, 8, 9, 10, 11, 12, 13, 14, 15, 16, 17, 18, 19, 20, 21, 22, 23, 24, 25, 26, 27, 28, 29, 30, 31, 32, 33, 34, 35, 36, 37, 38, 39, 40, 41, 42, 43, 44, 45, 46, 47, 48, 49, 50, 51, 52, 53, 54, 55, 56, 57, 58, 59, 60, 61, 62, 63, 64, 65, 66, 67, 68, 69, 70, 71, 72, 74, 75, 76, 77, 78, 79, 80, 81, 82, 83, 84, 85, 86, 87, 88, 89, 90, 91, 92, 93, 94, 95, 96, 97, 98, 99, 100]\n",
    "\n",
    "\n",
    "def missing(list,n):\n",
    "    sum1=n*(n+1)/2\n",
    "    sum2=sum(list)\n",
    "    print(sum1-sum2)\n",
    "    \n",
    "    \n",
    "missing(mylist,100)\n",
    "\n",
    "#method 2\n",
    "\n",
    "for i in range(1,101):\n",
    "    if i not in mylist:\n",
    "        print(i)"
   ]
  },
  {
   "cell_type": "code",
   "execution_count": null,
   "metadata": {},
   "outputs": [],
   "source": [
    "#Q3.)Write a program to find all pairs of integers whose sum is equal to given number:\n",
    "\n",
    "l=[2,6,9,11,3]\n",
    "target=9\n",
    "\n",
    "for i in range(len(l)):\n",
    "    for j in range(i+1,len(l)):\n",
    "        if l[i]+l[j]==9:\n",
    "            print(l[i],l[j]) s"
   ]
  },
  {
   "cell_type": "code",
   "execution_count": null,
   "metadata": {},
   "outputs": [],
   "source": [
    "#Q4.)Find max product of two intergers in array where all numbers of array are positive\n",
    "\n",
    "l=[45,56,2,47,91,34]\n",
    "\n",
    "def maxProd(l):\n",
    "    product=1\n",
    "    for i in range(0,len(l)):\n",
    "        for j in range(i+1,len(l)):\n",
    "            if l[i]==l[j]:\n",
    "                continue\n",
    "            elif l[i]*l[j]>product:\n",
    "                product=l[i]*l[j]\n",
    "    \n",
    "    print(product)\n",
    "    \n",
    "maxProd(l)"
   ]
  },
  {
   "cell_type": "code",
   "execution_count": null,
   "metadata": {},
   "outputs": [],
   "source": [
    "#Q5)Implement an algorithm to check if a list has all unique numbers \n",
    "\n",
    "myList =[1, 20,21,44,21,34,56,21,34]\n",
    "\n",
    "def isUnique(l):\n",
    "    count=0\n",
    "    for i in range(len(l)):\n",
    "        for j in range(i+1,len(l)):\n",
    "            if l[i]==l[j]:\n",
    "                count+=1\n",
    "                \n",
    "    if count>1:\n",
    "        print(f\"All element are not unique {count}\")\n",
    "    else:\n",
    "        print('Unique')\n",
    "        \n",
    "isUnique(myList)"
   ]
  },
  {
   "cell_type": "code",
   "execution_count": null,
   "metadata": {},
   "outputs": [],
   "source": [
    "#Write a function that return all elements from a list except first and last elements\n",
    "\n",
    "myList=[1,2,3,4]\n",
    "l=[]\n",
    "\n",
    "def middle(lst):\n",
    "    new=myList[1:len(lst)-1:]\n",
    "    print(new)\n",
    "            \n",
    "            \n",
    "middle(myList)"
   ]
  },
  {
   "cell_type": "code",
   "execution_count": null,
   "metadata": {},
   "outputs": [],
   "source": [
    "#Given a 2D list calculate the sum of diagonal elements\n",
    "\n",
    "import numpy as np\n",
    "\n",
    "my2DList=[[1,2,3],[4,5,6],[7,8,9]]\n",
    "print(len(my2DList))\n",
    "\n",
    "def diaSum(lst):\n",
    "    sum=0\n",
    "    for i in range(len(lst)):\n",
    "        sum += lst[i][i]\n",
    "    return sum\n",
    "    \n",
    "\n",
    "print(diaSum(my2DList))"
   ]
  },
  {
   "cell_type": "code",
   "execution_count": 8,
   "metadata": {},
   "outputs": [
    {
     "data": {
      "text/plain": [
       "[1, 2, 3]"
      ]
     },
     "execution_count": 8,
     "metadata": {},
     "output_type": "execute_result"
    }
   ],
   "source": [
    "#Write a function to find duplicate numbers on a given list\n",
    "\n",
    "myList=[1,1,1,2,2,3,3,4,5]\n",
    "l={}\n",
    "res=[]\n",
    "for i in myList:\n",
    "    if i in l:\n",
    "        l[i]+=1\n",
    "    else:\n",
    "        l[i]=1\n",
    "        \n",
    "for key in l:\n",
    "    if l[key]>1:\n",
    "        res.append(key)\n",
    "        \n",
    "res"
   ]
  },
  {
   "cell_type": "code",
   "execution_count": null,
   "metadata": {},
   "outputs": [],
   "source": []
  }
 ],
 "metadata": {
  "kernelspec": {
   "display_name": "Python 3.10.1 64-bit",
   "language": "python",
   "name": "python3"
  },
  "language_info": {
   "codemirror_mode": {
    "name": "ipython",
    "version": 3
   },
   "file_extension": ".py",
   "mimetype": "text/x-python",
   "name": "python",
   "nbconvert_exporter": "python",
   "pygments_lexer": "ipython3",
   "version": "3.10.1"
  },
  "orig_nbformat": 4,
  "vscode": {
   "interpreter": {
    "hash": "aee8b7b246df8f9039afb4144a1f6fd8d2ca17a180786b69acc140d282b71a49"
   }
  }
 },
 "nbformat": 4,
 "nbformat_minor": 2
}
