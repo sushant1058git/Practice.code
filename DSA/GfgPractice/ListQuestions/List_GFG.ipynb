{
 "cells": [
  {
   "attachments": {},
   "cell_type": "markdown",
   "metadata": {},
   "source": [
    "Dictionary Comprehension and its implementations\n",
    "\n"
   ]
  },
  {
   "cell_type": "code",
   "execution_count": 1,
   "metadata": {},
   "outputs": [
    {
     "data": {
      "text/plain": [
       "{1: 1, 2: 4, 3: 9, 4: 16, 5: 25, 6: 36, 7: 49, 8: 64, 9: 81}"
      ]
     },
     "execution_count": 1,
     "metadata": {},
     "output_type": "execute_result"
    }
   ],
   "source": [
    "# Dictionary comrehension\n",
    "\n",
    "dict={num:num*num for num in range(1,10)}\n",
    "dict"
   ]
  },
  {
   "cell_type": "code",
   "execution_count": 7,
   "metadata": {},
   "outputs": [
    {
     "data": {
      "text/plain": [
       "{'milk': 0.7752, 'coffee': 1.9, 'bread': 1.9}"
      ]
     },
     "execution_count": 7,
     "metadata": {},
     "output_type": "execute_result"
    }
   ],
   "source": [
    "#item price in dollars\n",
    "old_price = {'milk': 1.02, 'coffee': 2.5, 'bread': 2.5}\n",
    "# a=old_price.items()\n",
    "# for item,val in old_price.items():\n",
    "#     print(item,val)\n",
    "\n",
    "dollar_to_pound = 0.76\n",
    "\n",
    "new_price={item:value*dollar_to_pound for (item,value) in old_price.items() }\n",
    "new_price"
   ]
  },
  {
   "cell_type": "code",
   "execution_count": 9,
   "metadata": {},
   "outputs": [
    {
     "name": "stdout",
     "output_type": "stream",
     "text": [
      "{'guido': 57, 'john': 33}\n"
     ]
    },
    {
     "data": {
      "text/plain": [
       "{'jack': 38}"
      ]
     },
     "execution_count": 9,
     "metadata": {},
     "output_type": "execute_result"
    }
   ],
   "source": [
    "original_dict = {'jack': 38, 'michael': 48, 'guido': 57, 'john': 33}\n",
    "\n",
    "\n",
    "# Single If condition\n",
    "new_dict = {k: v for (k, v) in original_dict.items() if v % 2 != 0}\n",
    "print(new_dict)\n",
    "\n",
    "# Multiple If condition\n",
    "mul_dict={key:value for (key,value) in original_dict.items() if value%2==0 if value<40}\n",
    "mul_dict"
   ]
  },
  {
   "cell_type": "code",
   "execution_count": 10,
   "metadata": {},
   "outputs": [
    {
     "data": {
      "text/plain": [
       "{'jack': 'Young', 'michael': 'old', 'guido': 'old', 'john': 'Young'}"
      ]
     },
     "execution_count": 10,
     "metadata": {},
     "output_type": "execute_result"
    }
   ],
   "source": [
    "# Example 6: if-else Conditional Dictionary Comprehension\n",
    "original_dict = {'jack': 38, 'michael': 48, 'guido': 57, 'john': 33}\n",
    "\n",
    "res={key:('old' if value>45 else \"Young\") for (key,value) in original_dict.items()}\n",
    "\n",
    "res\n"
   ]
  },
  {
   "cell_type": "code",
   "execution_count": 12,
   "metadata": {},
   "outputs": [
    {
     "data": {
      "text/plain": [
       "[{'name': 'Gfg', 'id': 3}, {'name': 'is', 'id': 8}]"
      ]
     },
     "execution_count": 12,
     "metadata": {},
     "output_type": "execute_result"
    }
   ],
   "source": [
    "\n",
    "# Given list values and keys list, convert these values to key value pairs in form of list of dictionaries.\n",
    "\n",
    "# Input : test_list = [“Gfg”, 3, “is”, 8], key_list = [“name”, “id”]\n",
    "# Output : [{‘name’: ‘Gfg’, ‘id’: 3}, {‘name’: ‘is’, ‘id’: 8}]\n",
    "# Explanation : Values mapped by custom key, “name” -> “Gfg”, “id” -> 3.\n",
    "\n",
    "# Input : test_list = [“Gfg”, 10], key_list = [“name”, “id”]\n",
    "# Output : [{‘name’: ‘Gfg’, ‘id’: 10}]\n",
    "# Explanation : Conversion of lists to list of records by keys mapping.\n",
    "\n",
    "test_list = ['Gfg', 3, 'is', 8]\n",
    "key_list = ['name', 'id']\n",
    "\n",
    "res=[]\n",
    "for i in range(0,len(test_list),2):\n",
    "    res.append({key_list[0]:test_list[i],key_list[1]:test_list[i+1]})\n",
    "    \n",
    "res"
   ]
  },
  {
   "attachments": {},
   "cell_type": "markdown",
   "metadata": {},
   "source": [
    "Random Module and its uses\n"
   ]
  },
  {
   "cell_type": "code",
   "execution_count": 22,
   "metadata": {},
   "outputs": [
    {
     "data": {
      "text/plain": [
       "8"
      ]
     },
     "execution_count": 22,
     "metadata": {},
     "output_type": "execute_result"
    }
   ],
   "source": [
    "import random\n",
    "test_list = ['Gfg', 3, 'is', 8]\n",
    "random.choice(test_list)\n",
    "\n",
    "num = random.choice(range(19, 99)) # numbers b/w 19 to 99.\n",
    "print(num)\n"
   ]
  },
  {
   "cell_type": "code",
   "execution_count": 23,
   "metadata": {},
   "outputs": [
    {
     "name": "stdout",
     "output_type": "stream",
     "text": [
      "Aditya : 21\n"
     ]
    }
   ],
   "source": [
    "import random\n",
    "\n",
    "# Create a dictionary\n",
    "employee = {\n",
    "    \"Satyam\": 20,\n",
    "    \"Aditya\": 21,\n",
    "    \"Amit\": 22,\n",
    "    \"Achyut\": 23\n",
    "}\n",
    "\n",
    "# Select a random key from the dictionary.\n",
    "key = random.choice(list(employee))\n",
    "\n",
    "# Print the key-value using the key name.\n",
    "print(key,\":\",employee[key])\n"
   ]
  },
  {
   "cell_type": "code",
   "execution_count": 32,
   "metadata": {},
   "outputs": [
    {
     "data": {
      "text/plain": [
       "7"
      ]
     },
     "execution_count": 32,
     "metadata": {},
     "output_type": "execute_result"
    }
   ],
   "source": [
    "# Python program to select Random value form list of lists\n",
    "# Input : test_list = [[4, 5, 5], [2, 7, 4], [8, 6, 3]]\n",
    "# Output : 7\n",
    "# Explanation : Random number extracted from Matrix.\n",
    "\n",
    "# Input : test_list = [[4, 5, 5], [2, 7, 4], [8, 6, 3]], r_no = 2\n",
    "# Output : 6\n",
    "# Explanation : Random number extracted from 2nd row from Matrix.\n",
    "\n",
    "test_list = [[4, 5, 5], [2, 7, 4], [8, 6, 3]]\n",
    "\n",
    "import random\n",
    "\n",
    "number=random.choice(random.choice(test_list))\n",
    "number\n",
    "\n",
    "\n"
   ]
  },
  {
   "cell_type": "code",
   "execution_count": 43,
   "metadata": {},
   "outputs": [
    {
     "data": {
      "text/plain": [
       "[[6, 4, 1], [8, 7], [10, 8, 4]]"
      ]
     },
     "execution_count": 43,
     "metadata": {},
     "output_type": "execute_result"
    }
   ],
   "source": [
    "# Input=test_list = [[4, 1, 6], [7, 8], [4, 10, 8]]\n",
    "# Output=[[6, 4, 1], [8, 7], [10, 8, 4]]\n",
    "\n",
    "# list.sort(reverse=True|False, key=myFunc)\n",
    "\n",
    "test_list = [[4, 1, 6], [7, 8], [4, 10, 8]]\n",
    "out=[]\n",
    "\n",
    "for item in test_list:\n",
    "    item.sort(reverse=True)     #Sort() modifies original list\n",
    "    \n",
    "# for item in test_list:\n",
    "#     new=sorted(item)          #sorted() return new sorted list and doesnot modify original list\n",
    "#     out.append(new)\n",
    "\n",
    "# new_l=[sorted(ele,reverse=True) for ele in test_list]  #Using List comprehension\n",
    "    \n",
    "test_list\n",
    "# out\n",
    "# new_l"
   ]
  },
  {
   "cell_type": "code",
   "execution_count": 38,
   "metadata": {},
   "outputs": [
    {
     "data": {
      "text/plain": [
       "['Mitsubishi', 'Ford', 'BMW', 'VW']"
      ]
     },
     "execution_count": 38,
     "metadata": {},
     "output_type": "execute_result"
    }
   ],
   "source": [
    "# A function that returns the length of the value:\n",
    "def myFunc(e):\n",
    "  return len(e)\n",
    "\n",
    "cars = ['Ford', 'Mitsubishi', 'BMW', 'VW']\n",
    "\n",
    "cars.sort(key=myFunc,reverse=True)\n",
    "cars"
   ]
  },
  {
   "cell_type": "code",
   "execution_count": null,
   "metadata": {},
   "outputs": [],
   "source": [
    "coordinate = ['x', 'y', 'z']\n",
    "value = [3, 4, 5]\n",
    "\n",
    "result = zip(coordinate, value)\n",
    "result_list = list(result)\n",
    "print(result_list)\n",
    "\n",
    "c, v =  zip(*result_list)\n",
    "print('c =', c)\n",
    "print('v =', v)"
   ]
  }
 ],
 "metadata": {
  "kernelspec": {
   "display_name": "Python 3",
   "language": "python",
   "name": "python3"
  },
  "language_info": {
   "codemirror_mode": {
    "name": "ipython",
    "version": 3
   },
   "file_extension": ".py",
   "mimetype": "text/x-python",
   "name": "python",
   "nbconvert_exporter": "python",
   "pygments_lexer": "ipython3",
   "version": "3.10.1"
  },
  "orig_nbformat": 4,
  "vscode": {
   "interpreter": {
    "hash": "aee8b7b246df8f9039afb4144a1f6fd8d2ca17a180786b69acc140d282b71a49"
   }
  }
 },
 "nbformat": 4,
 "nbformat_minor": 2
}
