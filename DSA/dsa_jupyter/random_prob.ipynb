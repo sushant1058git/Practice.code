{
 "cells": [
  {
   "cell_type": "code",
   "execution_count": 1,
   "metadata": {},
   "outputs": [
    {
     "ename": "TypeError",
     "evalue": "'list' object is not callable",
     "output_type": "error",
     "traceback": [
      "\u001b[0;31m---------------------------------------------------------------------------\u001b[0m",
      "\u001b[0;31mTypeError\u001b[0m                                 Traceback (most recent call last)",
      "\u001b[1;32m/Users/sushantsinha/Practice Code/DSA/dsa_jupyter/random_prob.ipynb Cell 1\u001b[0m in \u001b[0;36m<cell line: 9>\u001b[0;34m()\u001b[0m\n\u001b[1;32m      <a href='vscode-notebook-cell:/Users/sushantsinha/Practice%20Code/DSA/dsa_jupyter/random_prob.ipynb#W0sZmlsZQ%3D%3D?line=4'>5</a>\u001b[0m         \u001b[39mreturn\u001b[39;00m A[\u001b[39m0\u001b[39m]\n\u001b[1;32m      <a href='vscode-notebook-cell:/Users/sushantsinha/Practice%20Code/DSA/dsa_jupyter/random_prob.ipynb#W0sZmlsZQ%3D%3D?line=5'>6</a>\u001b[0m     \u001b[39mreturn\u001b[39;00m \u001b[39mmax\u001b[39m(A(n\u001b[39m-\u001b[39m\u001b[39m1\u001b[39m),findMaxNumRec(A,n\u001b[39m-\u001b[39m\u001b[39m1\u001b[39m))\n\u001b[0;32m----> <a href='vscode-notebook-cell:/Users/sushantsinha/Practice%20Code/DSA/dsa_jupyter/random_prob.ipynb#W0sZmlsZQ%3D%3D?line=8'>9</a>\u001b[0m findMaxNumRec(A,\u001b[39m4\u001b[39;49m)\n",
      "\u001b[1;32m/Users/sushantsinha/Practice Code/DSA/dsa_jupyter/random_prob.ipynb Cell 1\u001b[0m in \u001b[0;36mfindMaxNumRec\u001b[0;34m(A, n)\u001b[0m\n\u001b[1;32m      <a href='vscode-notebook-cell:/Users/sushantsinha/Practice%20Code/DSA/dsa_jupyter/random_prob.ipynb#W0sZmlsZQ%3D%3D?line=3'>4</a>\u001b[0m \u001b[39mif\u001b[39;00m n\u001b[39m==\u001b[39m\u001b[39m1\u001b[39m:\n\u001b[1;32m      <a href='vscode-notebook-cell:/Users/sushantsinha/Practice%20Code/DSA/dsa_jupyter/random_prob.ipynb#W0sZmlsZQ%3D%3D?line=4'>5</a>\u001b[0m     \u001b[39mreturn\u001b[39;00m A[\u001b[39m0\u001b[39m]\n\u001b[0;32m----> <a href='vscode-notebook-cell:/Users/sushantsinha/Practice%20Code/DSA/dsa_jupyter/random_prob.ipynb#W0sZmlsZQ%3D%3D?line=5'>6</a>\u001b[0m \u001b[39mreturn\u001b[39;00m \u001b[39mmax\u001b[39m(A(n\u001b[39m-\u001b[39;49m\u001b[39m1\u001b[39;49m),findMaxNumRec(A,n\u001b[39m-\u001b[39m\u001b[39m1\u001b[39m))\n",
      "\u001b[0;31mTypeError\u001b[0m: 'list' object is not callable"
     ]
    }
   ],
   "source": [
    "A=[11,4,12,7]\n",
    "\n",
    "def findMaxNumRec(A,n):\n",
    "    if n==1:\n",
    "        return A[0]\n",
    "    return max(A(n-1),findMaxNumRec(A,n-1))\n",
    "\n",
    "\n",
    "findMaxNumRec(A,4)"
   ]
  },
  {
   "cell_type": "code",
   "execution_count": null,
   "metadata": {},
   "outputs": [],
   "source": []
  }
 ],
 "metadata": {
  "kernelspec": {
   "display_name": "Python 3.10.1 64-bit",
   "language": "python",
   "name": "python3"
  },
  "language_info": {
   "codemirror_mode": {
    "name": "ipython",
    "version": 3
   },
   "file_extension": ".py",
   "mimetype": "text/x-python",
   "name": "python",
   "nbconvert_exporter": "python",
   "pygments_lexer": "ipython3",
   "version": "3.10.1"
  },
  "orig_nbformat": 4,
  "vscode": {
   "interpreter": {
    "hash": "aee8b7b246df8f9039afb4144a1f6fd8d2ca17a180786b69acc140d282b71a49"
   }
  }
 },
 "nbformat": 4,
 "nbformat_minor": 2
}
