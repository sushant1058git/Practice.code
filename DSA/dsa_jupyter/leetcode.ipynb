{
 "cells": [
  {
   "cell_type": "markdown",
   "metadata": {},
   "source": [
    "Leetcode Questions and solutions"
   ]
  },
  {
   "cell_type": "markdown",
   "metadata": {},
   "source": [
    "1. Two Sum"
   ]
  },
  {
   "cell_type": "code",
   "execution_count": null,
   "metadata": {},
   "outputs": [],
   "source": [
    "nums=[2,7,11,15]\n",
    "target=9\n",
    "class Solution:\n",
    "    def twoSum(self, nums, target):\n",
    "        for i in range(len(nums)):\n",
    "            for j in range(i+1,len(nums)):\n",
    "                if nums[i]+nums[j]==target:\n",
    "                    return [i,j]\n",
    "                \n",
    "c=Solution()\n",
    "print(c.twoSum(nums,target))"
   ]
  },
  {
   "cell_type": "markdown",
   "metadata": {},
   "source": [
    "#2. Palindrome Number\n",
    "\n",
    "\n"
   ]
  },
  {
   "cell_type": "code",
   "execution_count": null,
   "metadata": {},
   "outputs": [],
   "source": [
    "class Solution:\n",
    "    def isPalindrome(self, x):\n",
    "        if str(x)==str(x)[::-1]:\n",
    "            return True\n",
    "        \n",
    "c=Solution()\n",
    "print(c.isPalindrome(121))"
   ]
  },
  {
   "cell_type": "markdown",
   "metadata": {},
   "source": [
    "#3. Container With Most Water"
   ]
  },
  {
   "cell_type": "code",
   "execution_count": null,
   "metadata": {},
   "outputs": [],
   "source": [
    "height=[2,3,4,5,6]\n",
    "class Solution:\n",
    "    def maxArea(self, height) -> int:\n",
    "        max_area=0\n",
    "        area=0\n",
    "        for i in range(0,len(height)):\n",
    "            for j in range(i+1,len(height)):\n",
    "                area=min(height[i],height[j])*(j-i)\n",
    "                max_area=max(max_area,area)\n",
    "        return max_area\n",
    "            \n",
    "c=Solution()\n",
    "print(c.maxArea(height))"
   ]
  },
  {
   "cell_type": "markdown",
   "metadata": {},
   "source": [
    "#4.Valid parenthesis Problem"
   ]
  },
  {
   "cell_type": "code",
   "execution_count": null,
   "metadata": {},
   "outputs": [],
   "source": [
    "string=\"()[({)}]\"\n",
    "opening=['(','{','[']\n",
    "stack=[]\n",
    "\n",
    "def isValid(string):\n",
    "    for i in string:\n",
    "        if i in opening:\n",
    "            stack.append(i)\n",
    "        elif stack==[]:\n",
    "            return False\n",
    "        elif i==')' and stack.pop()!='(' or i=='}' and stack.pop()!='{' or i==']' and stack.pop() != '[':\n",
    "            return False\n",
    "    return not stack\n",
    "        \n",
    "        \n",
    "a=isValid(string)\n",
    "print(a)"
   ]
  },
  {
   "cell_type": "markdown",
   "metadata": {},
   "source": [
    "5. Merge Two Sorted Lists\n",
    "\n",
    "You are given the heads of two sorted linked lists list1 and list2.\n",
    "\n",
    "Merge the two lists in a one sorted list. The list should be made by splicing together the nodes of the first two lists.\n",
    "\n",
    "Return the head of the merged linked list."
   ]
  },
  {
   "cell_type": "code",
   "execution_count": null,
   "metadata": {},
   "outputs": [],
   "source": [
    "class Node:\n",
    "    def __init__(self, val=0):\n",
    "        self.val = val\n",
    "        self.next = None\n",
    "        \n",
    "class LinkedList:\n",
    "    def __init__(self,head=None):\n",
    "        self.head=head\n",
    "        \n",
    "    def add(self,value):\n",
    "        newNode=Node(value)\n",
    "        if self.head==None:\n",
    "            self.head=newNode\n",
    "        else:\n",
    "            newNode.next=self.head\n",
    "            self.head=newNode\n",
    "            \n",
    "    def printLinkedList(self):\n",
    "        current_node=self.head\n",
    "        while current_node is not None:\n",
    "            print(str(current_node.val) + '-->', end='')\n",
    "            current_node=current_node.next\n",
    "        print(\"None\")\n",
    "\n",
    "class Solution:\n",
    "\tdef mergeTwoLists(self,head1,head2):\n",
    "\t\tdummyNode=Node()\n",
    "\t\tcurr=dummyNode\n",
    "\t\tif  head1 is not None and head2 is not None:\n",
    "\t\t\tif head1.val >= head2.val:\n",
    "\t\t\t\tcurr.next = head2\n",
    "\t\t\t\thead2 = head2.next\n",
    "\t\t\telse:\n",
    "\t\t\t\tcurr.next == head1\n",
    "\t\t\t\thead1 = head1.next\n",
    "\t\t\tcurr=curr.next\n",
    "\t\t\t\n",
    "\t\tif head1 is None:\n",
    "\t\t\tcurr.next=head2\n",
    "\t\telse:\n",
    "\t\t\tcurr.next=head1\n",
    "\t\t\t\n",
    "\t\t\t\n",
    "\t\treturn dummyNode.next\n",
    "        \n",
    "l=LinkedList()\n",
    "p=LinkedList()\n",
    "l.add(4)    \n",
    "l.add(2)    \n",
    "l.add(1)\n",
    "m=LinkedList()\n",
    "m.add(4)    \n",
    "m.add(3)    \n",
    "m.add(1)\n",
    "l.printLinkedList() \n",
    "m.printLinkedList()\n",
    "s=Solution()\n",
    "p.head=s.mergeTwoLists(l.head,m.head)\n",
    "p.printLinkedList()"
   ]
  },
  {
   "cell_type": "markdown",
   "metadata": {},
   "source": [
    "6. Search Insert Position:- \n",
    "    Given a sorted array of distinct integers and a target value, return the index if the target is found. If not, return the index where it would be if it were inserted in order."
   ]
  },
  {
   "cell_type": "code",
   "execution_count": null,
   "metadata": {},
   "outputs": [],
   "source": [
    "l=[1,2,3,4]\n",
    "\n",
    "def searchInsert(nums, target):\n",
    "    for i in nums: #---O(n)\n",
    "        if i==target:\n",
    "            return nums.index(i)\n",
    "    nums.append(target)#---O(n)\n",
    "    n=sorted(nums)\n",
    "    return n.index(target)\n",
    "searchInsert(l,5)"
   ]
  },
  {
   "cell_type": "markdown",
   "metadata": {},
   "source": [
    "7. Single Number:-\n",
    "Given a non-empty array of integers nums, every element appears twice except for one. Find that single one."
   ]
  },
  {
   "cell_type": "code",
   "execution_count": null,
   "metadata": {},
   "outputs": [],
   "source": [
    "import collections\n",
    "class Solution:\n",
    "    def singleNumber(self, nums):\n",
    "        p=collections.Counter(nums)\n",
    "        p_dict=dict(p)\n",
    "        for item in p_dict:\n",
    "            if p_dict[item]==1:\n",
    "                return item\n",
    "            \n",
    "s=Solution()\n",
    "s.singleNumber([4,1,2,1,2])"
   ]
  },
  {
   "cell_type": "code",
   "execution_count": null,
   "metadata": {},
   "outputs": [],
   "source": []
  }
 ],
 "metadata": {
  "kernelspec": {
   "display_name": "Python 3.10.1 64-bit",
   "language": "python",
   "name": "python3"
  },
  "language_info": {
   "codemirror_mode": {
    "name": "ipython",
    "version": 3
   },
   "file_extension": ".py",
   "mimetype": "text/x-python",
   "name": "python",
   "nbconvert_exporter": "python",
   "pygments_lexer": "ipython3",
   "version": "3.10.1"
  },
  "orig_nbformat": 4,
  "vscode": {
   "interpreter": {
    "hash": "aee8b7b246df8f9039afb4144a1f6fd8d2ca17a180786b69acc140d282b71a49"
   }
  }
 },
 "nbformat": 4,
 "nbformat_minor": 2
}
