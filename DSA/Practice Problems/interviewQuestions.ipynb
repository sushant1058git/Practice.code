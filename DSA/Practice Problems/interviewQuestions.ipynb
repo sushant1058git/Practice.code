{
 "cells": [
  {
   "cell_type": "code",
   "execution_count": null,
   "metadata": {},
   "outputs": [],
   "source": [
    "A=[11,4,12,7]\n",
    "\n",
    "def findMaxNumRec(A,n):\n",
    "    if n==1:\n",
    "        return A[0]\n",
    "    return max(A(n-1),findMaxNumRec(A,n-1))\n",
    "\n",
    "\n",
    "findMaxNumRec(A,4)\n"
   ]
  },
  {
   "cell_type": "code",
   "execution_count": null,
   "metadata": {},
   "outputs": [],
   "source": [
    "str='TheMangoIsYellow'\n",
    "res=[]\n",
    "for i in str:\n",
    "    if i.isupper():\n",
    "        res.append(\":\" + i)\n",
    "    else:\n",
    "        res.append(i)\n",
    "\n",
    "new_res=\"\".join(res).split(':')\n",
    "for i in new_res[1::]:\n",
    "    print(i)"
   ]
  },
  {
   "cell_type": "code",
   "execution_count": null,
   "metadata": {},
   "outputs": [],
   "source": [
    "#binary search\n",
    "\n",
    "def binarySearch(l,x,low,high):\n",
    "    # low=0\n",
    "    # high=len(l)-1\n",
    "    while low<=high:\n",
    "        mid=low+(high-low)//2\n",
    "        if l[mid]==x:\n",
    "            return mid\n",
    "        #search left half\n",
    "        elif l[mid]<x:\n",
    "            low = mid+1\n",
    "        #search right half\n",
    "        else:\n",
    "            high=mid-1\n",
    "    return -1\n",
    "\n",
    "lst=[1,2,3,4,5]\n",
    "x=3\n",
    "res=binarySearch(lst,x,0,len(lst)-1)\n",
    "print(res)"
   ]
  },
  {
   "cell_type": "code",
   "execution_count": null,
   "metadata": {},
   "outputs": [],
   "source": [
    "l=[5,8,45,65,878,34,67,4,0]\n",
    "\n",
    "def Biggest_number(l):\n",
    "    biggest_no=l[0]\n",
    "    for item in l:\n",
    "        if item>biggest_no:\n",
    "            biggest_no=item\n",
    "            \n",
    "    print(biggest_no)\n",
    "    \n",
    "Biggest_number(l)"
   ]
  },
  {
   "cell_type": "code",
   "execution_count": null,
   "metadata": {},
   "outputs": [],
   "source": [
    "#  Question 1:Find the missing number from myList\n",
    "\n",
    "from math import prod\n",
    "\n",
    "\n",
    "mylist = [1, 2, 3, 4, 5, 6, 7, 8, 9, 10, 11, 12, 13, 14, 15, 16, 17, 18, 19, 20, 21, 22, 23, 24, 25, 26, 27, 28, 29, 30, 31, 32, 33, 34, 35, 36, 37, 38, 39, 40, 41, 42, 43, 44, 45, 46, 47, 48, 49, 50, 51, 52, 53, 54, 55, 56, 57, 58, 59, 60, 61, 62, 63, 64, 65, 66, 67, 68, 69, 70, 71, 72, 74, 75, 76, 77, 78, 79, 80, 81, 82, 83, 84, 85, 86, 87, 88, 89, 90, 91, 92, 93, 94, 95, 96, 97, 98, 99, 100]\n",
    "\n",
    "\n",
    "def missing(list,n):\n",
    "    sum1=n*(n+1)/2\n",
    "    sum2=sum(list)\n",
    "    print(sum1-sum2)\n",
    "    \n",
    "    \n",
    "missing(mylist,100)\n",
    "\n",
    "#method 2\n",
    "\n",
    "for i in range(1,101):\n",
    "    if i not in mylist:\n",
    "        print(i)"
   ]
  },
  {
   "cell_type": "code",
   "execution_count": null,
   "metadata": {},
   "outputs": [],
   "source": [
    "#Q3.)Write a program to find all pairs of integers whose sum is equal to given number:\n",
    "\n",
    "l=[2,6,9,11,3]\n",
    "target=9\n",
    "\n",
    "for i in range(len(l)):\n",
    "    for j in range(i+1,len(l)):\n",
    "        if l[i]+l[j]==9:\n",
    "            print(l[i],l[j])"
   ]
  },
  {
   "cell_type": "code",
   "execution_count": null,
   "metadata": {},
   "outputs": [],
   "source": [
    "#Q4.)Find max product of two intergers in array where all numbers of array are positive\n",
    "\n",
    "l=[45,56,2,47,91,34]\n",
    "\n",
    "def maxProd(l):\n",
    "    product=1\n",
    "    for i in range(0,len(l)):\n",
    "        for j in range(i+1,len(l)):\n",
    "            if l[i]==l[j]:\n",
    "                continue\n",
    "            elif l[i]*l[j]>product:\n",
    "                product=l[i]*l[j]\n",
    "    \n",
    "    print(product)\n",
    "    \n",
    "maxProd(l)"
   ]
  },
  {
   "cell_type": "code",
   "execution_count": null,
   "metadata": {},
   "outputs": [],
   "source": [
    "#Q5)Implement an algorithm to check if a list has all unique numbers \n",
    "\n",
    "myList =[1, 20,21,44,21,34,56,21,34]\n",
    "\n",
    "def isUnique(l):\n",
    "    count=0\n",
    "    for i in range(len(l)):\n",
    "        for j in range(i+1,len(l)):\n",
    "            if l[i]==l[j]:\n",
    "                count+=1\n",
    "                \n",
    "    if count>1:\n",
    "        print(f\"All element are not unique {count}\")\n",
    "    else:\n",
    "        print('Unique')\n",
    "        \n",
    "isUnique(myList)"
   ]
  },
  {
   "cell_type": "code",
   "execution_count": null,
   "metadata": {},
   "outputs": [],
   "source": [
    "#Write a function that return all elements from a list except first and last elements\n",
    "\n",
    "myList=[1,2,3,4]\n",
    "l=[]\n",
    "\n",
    "def middle(lst):\n",
    "    new=myList[1:len(lst)-1:]\n",
    "    print(new)\n",
    "            \n",
    "            \n",
    "middle(myList)"
   ]
  },
  {
   "cell_type": "code",
   "execution_count": null,
   "metadata": {},
   "outputs": [],
   "source": [
    "#Given a 2D list calculate the sum of diagonal elements\n",
    "\n",
    "import numpy as np\n",
    "\n",
    "my2DList=[[1,2,3],[4,5,6],[7,8,9]]\n",
    "print(len(my2DList))\n",
    "\n",
    "def diaSum(lst):\n",
    "    sum=0\n",
    "    for i in range(len(lst)):\n",
    "        sum += lst[i][i]\n",
    "    return sum\n",
    "    \n",
    "\n",
    "print(diaSum(my2DList))"
   ]
  },
  {
   "cell_type": "code",
   "execution_count": 8,
   "metadata": {},
   "outputs": [
    {
     "data": {
      "text/plain": [
       "[1, 2, 3]"
      ]
     },
     "execution_count": 8,
     "metadata": {},
     "output_type": "execute_result"
    }
   ],
   "source": [
    "#Write a function to find duplicate numbers on a given list\n",
    "\n",
    "myList=[1,1,1,2,2,3,3,4,5]\n",
    "l={}\n",
    "res=[]\n",
    "for i in myList:\n",
    "    if i in l:\n",
    "        l[i]+=1\n",
    "    else:\n",
    "        l[i]=1\n",
    "        \n",
    "for key in l:\n",
    "    if l[key]>1:\n",
    "        res.append(key)\n",
    "        \n",
    "res"
   ]
  },
  {
   "cell_type": "code",
   "execution_count": 1,
   "metadata": {},
   "outputs": [
    {
     "name": "stdout",
     "output_type": "stream",
     "text": [
      "         1\n",
      "        222\n",
      "       33333\n",
      "      4444444\n",
      "     555555555\n",
      "    66666666666\n",
      "   7777777777777\n",
      "  888888888888888\n",
      " 99999999999999999\n"
     ]
    }
   ],
   "source": [
    "#   1 2*1-1  #2=3-1\n",
    "#  222  2*2-1   spaces=height-row\n",
    "# 33333 2*3-1\n",
    "\n",
    "def pir(n):\n",
    "    for i in range(1,n):\n",
    "        print(\" \"*(n-i),end=\"\")\n",
    "        for j in range(2*i-1):\n",
    "            print(i,end=\"\")\n",
    "        print()\n",
    "    \n",
    "\n",
    "\n",
    "pir(10)"
   ]
  },
  {
   "cell_type": "code",
   "execution_count": null,
   "metadata": {},
   "outputs": [],
   "source": [
    "#binary search\n",
    "\n",
    "def binarySearch(l,x,low,high):\n",
    "    # low=0\n",
    "    # high=len(l)-1\n",
    "    while low<=high:\n",
    "        mid=low+(high-low)//2\n",
    "        if l[mid]==x:\n",
    "            return mid\n",
    "        #search left half\n",
    "        elif l[mid]<x:\n",
    "            low = mid+1\n",
    "        #search right half\n",
    "        else:\n",
    "            high=mid-1\n",
    "    return -1\n",
    "\n",
    "lst=[1,2,3,4,5]\n",
    "x=3\n",
    "res=binarySearch(lst,x,0,len(lst)-1)\n",
    "print(res)"
   ]
  },
  {
   "cell_type": "code",
   "execution_count": 2,
   "metadata": {},
   "outputs": [
    {
     "name": "stdout",
     "output_type": "stream",
     "text": [
      "{'s': 2, 'e': 3, 't': 2, 'i': 1, 'n': 1, 'g': 1, ' ': 3, 'u': 1, 'p': 1, 'm': 1, 'o': 1, 'c': 1, 'k': 1, 'r': 2, 'v': 1}\n"
     ]
    }
   ],
   "source": [
    "#get frq of all characters\n",
    "\n",
    "test_str=\"setting up mock server\"\n",
    "# {'s':2,'e':3}\n",
    "freq_dict={}\n",
    "\n",
    "for char in test_str:\n",
    "    if char in freq_dict:\n",
    "        freq_dict[char]+=1\n",
    "    else:\n",
    "        freq_dict[char]=1\n",
    "    \n",
    "print(freq_dict)"
   ]
  },
  {
   "cell_type": "code",
   "execution_count": null,
   "metadata": {},
   "outputs": [],
   "source": [
    "str='TheMangoIsYellow'\n",
    "res=[]\n",
    "for i in str:\n",
    "    if i.isupper():\n",
    "        res.append(\":\" + i)\n",
    "    else:\n",
    "        res.append(i)\n",
    "\n",
    "new_res=\"\".join(res).split(':')\n",
    "for i in new_res[1::]:\n",
    "    print(i)"
   ]
  },
  {
   "cell_type": "code",
   "execution_count": null,
   "metadata": {},
   "outputs": [],
   "source": [
    "def isPrime(num):\n",
    "    for digit in range(2,num):\n",
    "        if num % digit == 0:\n",
    "            print('not prime')\n",
    "            break\n",
    "    else:\n",
    "        print('prime')\n",
    "\n",
    "\n",
    "isPrime(81)"
   ]
  },
  {
   "cell_type": "code",
   "execution_count": null,
   "metadata": {},
   "outputs": [],
   "source": [
    "#  Python Program to calculate factorial using recursion.\n",
    "\n",
    "def factorial(n):\n",
    "    if n in (0,1):\n",
    "        return 1\n",
    "    else:\n",
    "        return n*factorial(n-1)\n",
    "\n",
    "print(factorial(4))"
   ]
  },
  {
   "cell_type": "code",
   "execution_count": null,
   "metadata": {},
   "outputs": [],
   "source": [
    "#print fibonacci (first n numbers) using iterative method\n",
    "\n",
    "#0,1,1,2,3,5,8,13,21...\n",
    "\n",
    "def fib(n):\n",
    "    l=[0,1]\n",
    "    f_num=0\n",
    "    s_num=1\n",
    "    for i in range(n-2):\n",
    "        temp=f_num\n",
    "        f_num=s_num\n",
    "        s_num=f_num+temp\n",
    "        l.append(s_num)\n",
    "    return l\n",
    "\n",
    "print(fib(10))"
   ]
  },
  {
   "cell_type": "code",
   "execution_count": null,
   "metadata": {},
   "outputs": [],
   "source": [
    "#print fibonacci (first n numbers) using recursive method\n",
    "def fib(n):\n",
    "    if n in (0,1):\n",
    "        return 1\n",
    "    else:\n",
    "        return (fib(n-2)+fib(n-1))\n",
    "\n",
    "print(fib(5))"
   ]
  },
  {
   "cell_type": "code",
   "execution_count": 3,
   "metadata": {},
   "outputs": [
    {
     "data": {
      "text/plain": [
       "['The', 'Long', 'And', 'Winding', 'Road']"
      ]
     },
     "execution_count": 3,
     "metadata": {},
     "output_type": "execute_result"
    }
   ],
   "source": [
    "import re\n",
    "\n",
    "pattern='[a-zA-Z][^A-Z]*'\n",
    "str1='TheLongAndWindingRoad'\n",
    "re.findall(pattern, str1)\n"
   ]
  },
  {
   "cell_type": "code",
   "execution_count": null,
   "metadata": {},
   "outputs": [],
   "source": [
    "\n",
    "def isPrime(num):\n",
    "    for digit in range(2,num):\n",
    "        if num % digit == 0:\n",
    "            print('not prime')\n",
    "            break\n",
    "    else:\n",
    "        print('prime')\n",
    "\n",
    "\n",
    "isPrime(81)"
   ]
  },
  {
   "cell_type": "code",
   "execution_count": null,
   "metadata": {},
   "outputs": [],
   "source": [
    "i=\"%%%%%bhargav%%%ch%%%s\"\n",
    "# o=\"bhargav%ch%s\"\n",
    "l=[]\n",
    "res=\"\"\n",
    "for char in i:\n",
    "    if char.isalpha():\n",
    "        res+=char\n",
    "        if char==i[-1]:\n",
    "            l\n",
    "\n",
    "    else:\n",
    "        if len(res)>0:\n",
    "            l.append(res)\n",
    "            res=\"\""
   ]
  }
 ],
 "metadata": {
  "kernelspec": {
   "display_name": "Python 3.10.1 64-bit",
   "language": "python",
   "name": "python3"
  },
  "language_info": {
   "codemirror_mode": {
    "name": "ipython",
    "version": 3
   },
   "file_extension": ".py",
   "mimetype": "text/x-python",
   "name": "python",
   "nbconvert_exporter": "python",
   "pygments_lexer": "ipython3",
   "version": "3.10.1"
  },
  "orig_nbformat": 4,
  "vscode": {
   "interpreter": {
    "hash": "aee8b7b246df8f9039afb4144a1f6fd8d2ca17a180786b69acc140d282b71a49"
   }
  }
 },
 "nbformat": 4,
 "nbformat_minor": 2
}
